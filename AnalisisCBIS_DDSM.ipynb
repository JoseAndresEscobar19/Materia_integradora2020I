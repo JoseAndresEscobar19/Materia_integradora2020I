{
  "nbformat": 4,
  "nbformat_minor": 0,
  "metadata": {
    "colab": {
      "name": "AnalisisCBIS-DDSM.ipynb",
      "provenance": [],
      "collapsed_sections": [],
      "include_colab_link": true
    },
    "kernelspec": {
      "name": "python3",
      "display_name": "Python 3"
    }
  },
  "cells": [
    {
      "cell_type": "markdown",
      "metadata": {
        "id": "view-in-github",
        "colab_type": "text"
      },
      "source": [
        "<a href=\"https://colab.research.google.com/github/JoseAndresEscobar19/Materia_integradora2020I/blob/master/AnalisisCBIS_DDSM.ipynb\" target=\"_parent\"><img src=\"https://colab.research.google.com/assets/colab-badge.svg\" alt=\"Open In Colab\"/></a>"
      ]
    },
    {
      "cell_type": "markdown",
      "metadata": {
        "id": "ZpaG41wXaqJ6",
        "colab_type": "text"
      },
      "source": [
        "### Importando las librerias"
      ]
    },
    {
      "cell_type": "code",
      "metadata": {
        "id": "zn-eHgYSIYYA",
        "colab_type": "code",
        "colab": {
          "base_uri": "https://localhost:8080/",
          "height": 122
        },
        "outputId": "4e88fc36-ff96-42f5-c703-3c804687c188"
      },
      "source": [
        "from google.colab import drive\n",
        "drive.mount('/content/drive')"
      ],
      "execution_count": null,
      "outputs": [
        {
          "output_type": "stream",
          "text": [
            "Go to this URL in a browser: https://accounts.google.com/o/oauth2/auth?client_id=947318989803-6bn6qk8qdgf4n4g3pfee6491hc0brc4i.apps.googleusercontent.com&redirect_uri=urn%3aietf%3awg%3aoauth%3a2.0%3aoob&response_type=code&scope=email%20https%3a%2f%2fwww.googleapis.com%2fauth%2fdocs.test%20https%3a%2f%2fwww.googleapis.com%2fauth%2fdrive%20https%3a%2f%2fwww.googleapis.com%2fauth%2fdrive.photos.readonly%20https%3a%2f%2fwww.googleapis.com%2fauth%2fpeopleapi.readonly\n",
            "\n",
            "Enter your authorization code:\n",
            "··········\n",
            "Mounted at /content/drive\n"
          ],
          "name": "stdout"
        }
      ]
    },
    {
      "cell_type": "code",
      "metadata": {
        "id": "wJW4olHfIZcn",
        "colab_type": "code",
        "colab": {}
      },
      "source": [
        "rutadrive=\"/content/drive/My Drive/Materia_integradora/Datasets/CBIS-DDMS/\"\n",
        "ruta=\"/content/Dataset/\""
      ],
      "execution_count": null,
      "outputs": []
    },
    {
      "cell_type": "code",
      "metadata": {
        "id": "4DkbYeXU0K7c",
        "colab_type": "code",
        "colab": {}
      },
      "source": [
        "# !rm *.nii.gz\n",
        "# !rm -r Dataset\n",
        "!rm -r ddsm_tools/"
      ],
      "execution_count": null,
      "outputs": []
    },
    {
      "cell_type": "code",
      "metadata": {
        "id": "vDcu0EnlIlo2",
        "colab_type": "code",
        "colab": {
          "base_uri": "https://localhost:8080/",
          "height": 877
        },
        "outputId": "25aaabb3-e995-4699-e9f2-32f287bf1b5b"
      },
      "source": [
        "!cp -r /content/drive/My\\ Drive/Materia_integradora/Datasets/CBIS-DDMS/Librerias/ddsm_tools /content/ddsm_tools\n",
        "!chmod 755 ddsm_tools/jpegdir/jpeg\n",
        "!apt-get install -y pigz\n",
        "!apt-get install dcm2niix\n",
        "!pip install pydicom\n",
        "!pip install opencv-python\n",
        "!pip install pillow\n",
        "!pip install nipype\n",
        "!pip install nibabel\n",
        " \n",
        "import ddsm_tools.my_ddsm_converter as ddsm\n",
        "import pandas as pd \n",
        "import os\n",
        "import zipfile\n",
        "import numpy as np\n",
        "import urllib.request, urllib.error, urllib.parse\n",
        "import urllib.request, urllib.parse, urllib.error\n",
        "import sys\n",
        "import math\n",
        "import tempfile\n",
        "import pydicom\n",
        "from pydicom.uid import ImplicitVRLittleEndian\n",
        "from pydicom.dataset import Dataset, FileDataset\n",
        "import matplotlib.pyplot as plt\n",
        "import cv2\n",
        "import csv\n",
        "import shutil\n",
        "import subprocess\n",
        "import glob\n",
        "import nibabel as nib\n",
        "from PIL import Image"
      ],
      "execution_count": null,
      "outputs": [
        {
          "output_type": "stream",
          "text": [
            "Reading package lists... Done\n",
            "Building dependency tree       \n",
            "Reading state information... Done\n",
            "pigz is already the newest version (2.4-1).\n",
            "The following package was automatically installed and is no longer required:\n",
            "  libnvidia-common-440\n",
            "Use 'apt autoremove' to remove it.\n",
            "0 upgraded, 0 newly installed, 0 to remove and 35 not upgraded.\n",
            "Reading package lists... Done\n",
            "Building dependency tree       \n",
            "Reading state information... Done\n",
            "dcm2niix is already the newest version (1.0.20171215-1).\n",
            "The following package was automatically installed and is no longer required:\n",
            "  libnvidia-common-440\n",
            "Use 'apt autoremove' to remove it.\n",
            "0 upgraded, 0 newly installed, 0 to remove and 35 not upgraded.\n",
            "Requirement already satisfied: pydicom in /usr/local/lib/python3.6/dist-packages (2.0.0)\n",
            "Requirement already satisfied: opencv-python in /usr/local/lib/python3.6/dist-packages (4.1.2.30)\n",
            "Requirement already satisfied: numpy>=1.11.3 in /usr/local/lib/python3.6/dist-packages (from opencv-python) (1.18.5)\n",
            "Requirement already satisfied: pillow in /usr/local/lib/python3.6/dist-packages (7.0.0)\n",
            "Requirement already satisfied: nipype in /usr/local/lib/python3.6/dist-packages (1.5.0)\n",
            "Requirement already satisfied: etelemetry>=0.2.0 in /usr/local/lib/python3.6/dist-packages (from nipype) (0.2.1)\n",
            "Requirement already satisfied: pydotplus in /usr/local/lib/python3.6/dist-packages (from nipype) (2.0.2)\n",
            "Requirement already satisfied: simplejson>=3.8.0 in /usr/local/lib/python3.6/dist-packages (from nipype) (3.17.0)\n",
            "Requirement already satisfied: pydot>=1.2.3 in /usr/local/lib/python3.6/dist-packages (from nipype) (1.3.0)\n",
            "Requirement already satisfied: traits!=5.0,>=4.6 in /usr/local/lib/python3.6/dist-packages (from nipype) (6.1.0)\n",
            "Requirement already satisfied: python-dateutil>=2.2 in /usr/local/lib/python3.6/dist-packages (from nipype) (2.8.1)\n",
            "Requirement already satisfied: filelock>=3.0.0 in /usr/local/lib/python3.6/dist-packages (from nipype) (3.0.12)\n",
            "Requirement already satisfied: nibabel>=2.1.0 in /usr/local/lib/python3.6/dist-packages (from nipype) (3.0.2)\n",
            "Requirement already satisfied: packaging in /usr/local/lib/python3.6/dist-packages (from nipype) (20.4)\n",
            "Requirement already satisfied: prov>=1.5.2 in /usr/local/lib/python3.6/dist-packages (from nipype) (1.5.3)\n",
            "Requirement already satisfied: numpy>=1.13; python_version < \"3.7\" in /usr/local/lib/python3.6/dist-packages (from nipype) (1.18.5)\n",
            "Requirement already satisfied: scipy>=0.14 in /usr/local/lib/python3.6/dist-packages (from nipype) (1.4.1)\n",
            "Requirement already satisfied: rdflib>=5.0.0 in /usr/local/lib/python3.6/dist-packages (from nipype) (5.0.0)\n",
            "Requirement already satisfied: click>=6.6.0 in /usr/local/lib/python3.6/dist-packages (from nipype) (7.1.2)\n",
            "Requirement already satisfied: networkx>=1.9 in /usr/local/lib/python3.6/dist-packages (from nipype) (2.4)\n",
            "Requirement already satisfied: ci-info>=0.2 in /usr/local/lib/python3.6/dist-packages (from etelemetry>=0.2.0->nipype) (0.2.0)\n",
            "Requirement already satisfied: requests in /usr/local/lib/python3.6/dist-packages (from etelemetry>=0.2.0->nipype) (2.23.0)\n",
            "Requirement already satisfied: pyparsing>=2.0.1 in /usr/local/lib/python3.6/dist-packages (from pydotplus->nipype) (2.4.7)\n",
            "Requirement already satisfied: six>=1.5 in /usr/local/lib/python3.6/dist-packages (from python-dateutil>=2.2->nipype) (1.12.0)\n",
            "Requirement already satisfied: lxml>=3.3.5 in /usr/local/lib/python3.6/dist-packages (from prov>=1.5.2->nipype) (4.2.6)\n",
            "Requirement already satisfied: isodate in /usr/local/lib/python3.6/dist-packages (from rdflib>=5.0.0->nipype) (0.6.0)\n",
            "Requirement already satisfied: decorator>=4.3.0 in /usr/local/lib/python3.6/dist-packages (from networkx>=1.9->nipype) (4.4.2)\n",
            "Requirement already satisfied: chardet<4,>=3.0.2 in /usr/local/lib/python3.6/dist-packages (from requests->etelemetry>=0.2.0->nipype) (3.0.4)\n",
            "Requirement already satisfied: urllib3!=1.25.0,!=1.25.1,<1.26,>=1.21.1 in /usr/local/lib/python3.6/dist-packages (from requests->etelemetry>=0.2.0->nipype) (1.24.3)\n",
            "Requirement already satisfied: idna<3,>=2.5 in /usr/local/lib/python3.6/dist-packages (from requests->etelemetry>=0.2.0->nipype) (2.10)\n",
            "Requirement already satisfied: certifi>=2017.4.17 in /usr/local/lib/python3.6/dist-packages (from requests->etelemetry>=0.2.0->nipype) (2020.6.20)\n",
            "Requirement already satisfied: nibabel in /usr/local/lib/python3.6/dist-packages (3.0.2)\n",
            "Requirement already satisfied: numpy>=1.12 in /usr/local/lib/python3.6/dist-packages (from nibabel) (1.18.5)\n"
          ],
          "name": "stdout"
        }
      ]
    },
    {
      "cell_type": "code",
      "metadata": {
        "id": "c7fjZgF2PkE1",
        "colab_type": "code",
        "colab": {}
      },
      "source": [
        "if not os.path.exists(\"Dataset\"):\n",
        "  os.mkdir(\"Dataset\")"
      ],
      "execution_count": null,
      "outputs": []
    },
    {
      "cell_type": "markdown",
      "metadata": {
        "id": "3iQPxEV1mp-K",
        "colab_type": "text"
      },
      "source": [
        "### Obteniendo estadisticas del dataset"
      ]
    },
    {
      "cell_type": "code",
      "metadata": {
        "id": "hOq8raPMIoTP",
        "colab_type": "code",
        "colab": {
          "base_uri": "https://localhost:8080/",
          "height": 119
        },
        "outputId": "98b5a604-182d-4c55-c6fd-ae3a32812f05"
      },
      "source": [
        "df_calc_train=pd.read_csv(rutadrive+\"calc_case_description_train_set.csv\")\n",
        "df_2=df_calc_train[df_calc_train['pathology'].isin([\"MALIGNANT\",\"BENIGN\"])]\n",
        "df_2.head()\n",
        "print(df_2[\"pathology\"].value_counts())\n",
        "dff_2 = df_2[[\"pathology\",\"patient_id\"]]\n",
        "d=dff_2.groupby(['patient_id','pathology']).count().reset_index()\n",
        "d[\"pathology\"].value_counts()"
      ],
      "execution_count": null,
      "outputs": [
        {
          "output_type": "stream",
          "text": [
            "MALIGNANT    544\n",
            "BENIGN       528\n",
            "Name: pathology, dtype: int64\n"
          ],
          "name": "stdout"
        },
        {
          "output_type": "execute_result",
          "data": {
            "text/plain": [
              "MALIGNANT    276\n",
              "BENIGN       258\n",
              "Name: pathology, dtype: int64"
            ]
          },
          "metadata": {
            "tags": []
          },
          "execution_count": 98
        }
      ]
    },
    {
      "cell_type": "code",
      "metadata": {
        "id": "UqlS6QxSq_0p",
        "colab_type": "code",
        "colab": {
          "base_uri": "https://localhost:8080/",
          "height": 119
        },
        "outputId": "c2cb1a14-4a6b-4cb3-92f7-d54fcd91aaef"
      },
      "source": [
        "df_calc_test=pd.read_csv(rutadrive+\"calc_case_description_test_set.csv\")\n",
        "df_calc_test2=df_calc_test[df_calc_test['pathology'].isin([\"MALIGNANT\",\"BENIGN\"])]\n",
        "df_calc_test2.head()\n",
        "print(df_calc_test2[\"pathology\"].value_counts())\n",
        "dff_2 = df_calc_test2[[\"pathology\",\"patient_id\"]]\n",
        "d=dff_2.groupby(['patient_id','pathology']).count().reset_index()\n",
        "d[\"pathology\"].value_counts()"
      ],
      "execution_count": null,
      "outputs": [
        {
          "output_type": "stream",
          "text": [
            "BENIGN       130\n",
            "MALIGNANT    129\n",
            "Name: pathology, dtype: int64\n"
          ],
          "name": "stdout"
        },
        {
          "output_type": "execute_result",
          "data": {
            "text/plain": [
              "BENIGN       70\n",
              "MALIGNANT    67\n",
              "Name: pathology, dtype: int64"
            ]
          },
          "metadata": {
            "tags": []
          },
          "execution_count": 99
        }
      ]
    },
    {
      "cell_type": "code",
      "metadata": {
        "id": "_lNm3-Kps9S1",
        "colab_type": "code",
        "colab": {
          "base_uri": "https://localhost:8080/",
          "height": 119
        },
        "outputId": "e8b399f6-10b5-4765-ca81-9dcddb0a627e"
      },
      "source": [
        "df_masa_train=pd.read_csv(rutadrive+\"mass_case_description_train_set.csv\")\n",
        "df_masa_train2=df_masa_train[df_masa_train['pathology'].isin([\"MALIGNANT\",\"BENIGN\"])]\n",
        "df_masa_train2.head()\n",
        "print(df_masa_train2[\"pathology\"].value_counts())\n",
        "dff_2 = df_masa_train2[[\"pathology\",\"patient_id\"]]\n",
        "d=dff_2.groupby(['patient_id','pathology']).count().reset_index()\n",
        "d[\"pathology\"].value_counts()"
      ],
      "execution_count": null,
      "outputs": [
        {
          "output_type": "stream",
          "text": [
            "MALIGNANT    637\n",
            "BENIGN       577\n",
            "Name: pathology, dtype: int64\n"
          ],
          "name": "stdout"
        },
        {
          "output_type": "execute_result",
          "data": {
            "text/plain": [
              "MALIGNANT    346\n",
              "BENIGN       304\n",
              "Name: pathology, dtype: int64"
            ]
          },
          "metadata": {
            "tags": []
          },
          "execution_count": 100
        }
      ]
    },
    {
      "cell_type": "code",
      "metadata": {
        "id": "IEtNEgVes9eq",
        "colab_type": "code",
        "colab": {
          "base_uri": "https://localhost:8080/",
          "height": 119
        },
        "outputId": "c13e9834-1ffc-4db9-972f-8554f3546968"
      },
      "source": [
        "df_masa_test=pd.read_csv(rutadrive+\"mass_case_description_test_set.csv\")\n",
        "df_masa_test2=df_masa_test[df_masa_test['pathology'].isin([\"MALIGNANT\",\"BENIGN\"])]\n",
        "df_masa_test2.head()\n",
        "print(df_masa_test2[\"pathology\"].value_counts())\n",
        "dff_2 = df_masa_test2[[\"pathology\",\"patient_id\"]]\n",
        "d=dff_2.groupby(['patient_id','pathology']).count().reset_index()\n",
        "d[\"pathology\"].value_counts()"
      ],
      "execution_count": null,
      "outputs": [
        {
          "output_type": "stream",
          "text": [
            "BENIGN       194\n",
            "MALIGNANT    147\n",
            "Name: pathology, dtype: int64\n"
          ],
          "name": "stdout"
        },
        {
          "output_type": "execute_result",
          "data": {
            "text/plain": [
              "BENIGN       101\n",
              "MALIGNANT     85\n",
              "Name: pathology, dtype: int64"
            ]
          },
          "metadata": {
            "tags": []
          },
          "execution_count": 101
        }
      ]
    },
    {
      "cell_type": "markdown",
      "metadata": {
        "id": "upaSgo9_m-B8",
        "colab_type": "text"
      },
      "source": [
        "### Creando particiones de los datasets"
      ]
    },
    {
      "cell_type": "code",
      "metadata": {
        "id": "ib3CQQWhWBB4",
        "colab_type": "code",
        "colab": {}
      },
      "source": [
        "df_benigno_calc_full=df_calc_train[df_calc_train['pathology'].isin([\"BENIGN\"])]\n",
        "df_benigno_calc = df_benigno_calc_full.head(50)\n",
        "df_maligno_calc_full=df_calc_train[df_calc_train['pathology'].isin([\"MALIGNANT\"])]\n",
        "df_maligno_calc = df_maligno_calc_full.head(50)\n",
        "df_benigno_mass_full=df_masa_train[df_masa_train['pathology'].isin([\"BENIGN\"])]\n",
        "df_benigno_mass = df_benigno_mass_full.head(50)\n",
        "df_maligno_mass_full=df_masa_train[df_masa_train['pathology'].isin([\"MALIGNANT\"])]\n",
        "df_maligno_mass = df_maligno_mass_full.head(50)"
      ],
      "execution_count": null,
      "outputs": []
    },
    {
      "cell_type": "markdown",
      "metadata": {
        "id": "9-leFZLZiAPs",
        "colab_type": "text"
      },
      "source": [
        "### Clase para conexion y descarga de imagenes"
      ]
    },
    {
      "cell_type": "code",
      "metadata": {
        "id": "kGOPcUq6kmxz",
        "colab_type": "code",
        "colab": {}
      },
      "source": [
        "#\n",
        "# Refer https://wiki.cancerimagingarchive.net/display/Public/REST+API+Usage+Guide for complete list of API\n",
        "#\n",
        "class TCIAClient:\n",
        "    GET_IMAGE = \"getImage\"\n",
        "\n",
        "    def __init__(self , baseUrl, resource):\n",
        "        self.baseUrl = baseUrl + \"/\" + resource\n",
        "\n",
        "    def execute(self, url, queryParameters={}):\n",
        "        queryParameters = dict((k, v) for k, v in queryParameters.items() if v)\n",
        "        queryString = \"?%s\" % urllib.parse.urlencode(queryParameters)\n",
        "        requestUrl = url + queryString\n",
        "        request = urllib.request.Request(url=requestUrl)\n",
        "        resp = urllib.request.urlopen(request)\n",
        "        return resp\n",
        "\n",
        "\n",
        "    def get_image(self , seriesInstanceUid , downloadPath, zipFileName):\n",
        "        serviceUrl = self.baseUrl + \"/query/\" + self.GET_IMAGE\n",
        "        queryParameters = { \"SeriesInstanceUID\" : seriesInstanceUid }\n",
        "        os.umask(0o002)\n",
        "        try:\n",
        "            file = os.path.join(downloadPath, zipFileName)\n",
        "            resp = self.execute( serviceUrl , queryParameters)\n",
        "            downloaded = 0\n",
        "            CHUNK = 256 * 10240\n",
        "            with open(file, 'wb') as fp:\n",
        "                while True:\n",
        "                    chunk = resp.read(CHUNK)\n",
        "                    downloaded += len(chunk)\n",
        "                    if not chunk: break\n",
        "                    fp.write(chunk)\n",
        "        except urllib.error.HTTPError as e:\n",
        "            print(\"HTTP Error:\",e.code , serviceUrl)\n",
        "            return False\n",
        "        except urllib.error.URLError as e:\n",
        "            print(\"URL Error:\",e.reason , serviceUrl)\n",
        "            return False\n",
        "\n",
        "        return True"
      ],
      "execution_count": null,
      "outputs": []
    },
    {
      "cell_type": "code",
      "metadata": {
        "id": "ZnQja1T3kvx6",
        "colab_type": "code",
        "colab": {}
      },
      "source": [
        "tcia_client = TCIAClient(baseUrl=\"https://services.cancerimagingarchive.net/services/v4\",resource = \"TCIA\")"
      ],
      "execution_count": null,
      "outputs": []
    },
    {
      "cell_type": "markdown",
      "metadata": {
        "id": "ImbcWUZLhxnl",
        "colab_type": "text"
      },
      "source": [
        "## Descargando las imagenes y convirtiendolas a nii"
      ]
    },
    {
      "cell_type": "code",
      "metadata": {
        "id": "HeqPOiPJNSl_",
        "colab_type": "code",
        "colab": {}
      },
      "source": [
        "def descargar_imagenes_imgs_2(tcia,data):\n",
        "  datos={\"patient_id\":[],\"abnormality type\":[],\"image_path\":[],\"cropped_path\":[],\"roi_path\":[]}\n",
        "  for imgpath,roipath,croppath,pathology,abnormality in zip(data[\"image file path\"],\n",
        "                                                data[\"cropped image file path\"],\n",
        "                                                data[\"ROI mask file path\"],\n",
        "                                                data[\"pathology\"],\n",
        "                                                data[\"abnormality type\"]): \n",
        "    print(\".\",end=\"\")\n",
        "    imgpath=imgpath.strip()\n",
        "    roipath=roipath.strip()\n",
        "    croppath=croppath.strip()\n",
        "    # obtiniendo informacion de la imagen\n",
        "    patient_id,StudyInstanceUD1,SeriesInstanceUID1,filename=imgpath.rstrip().split(\"/\")\n",
        "    patient_id2,StudyInstanceUD2,SeriesInstanceUID2,filename2=roipath.rstrip().split(\"/\")\n",
        "    patient_id3,StudyInstanceUD3,SeriesInstanceUID3,filename3=croppath.rstrip().split(\"/\")\n",
        " \n",
        "    ruta_full=os.path.join(pathology,\"full_mammo\",patient_id,SeriesInstanceUID1)\n",
        "    ruta_roi=os.path.join(pathology,\"ground_truth\",patient_id,SeriesInstanceUID2)\n",
        " \n",
        "    datos[\"abnormality type\"].append(abnormality)\n",
        "    datos[\"patient_id\"].append(patient_id)\n",
        "    # Si la ruta no existe, se la crea (es temporal)\n",
        "    if not os.path.exists(ruta+ruta_full):\n",
        "      os.makedirs(ruta+ruta_full)\n",
        "    if not os.path.exists(rutadrive+ruta_full):\n",
        "      os.makedirs(rutadrive+ruta_full)\n",
        "    if not os.path.exists(rutadrive+ruta_roi):\n",
        "      os.makedirs(rutadrive+ruta_roi)\n",
        " \n",
        "    # descargando las imagenes del repositorio CBIS\n",
        "    descargadofull=tcia.get_image(SeriesInstanceUID1,ruta,\"images.zip\");\n",
        " \n",
        "    #descomprimiendo las imagenes y renombrarlas a un nombre mas significativo\n",
        "    if descargadofull:\n",
        "      with zipfile.ZipFile(ruta+\"images.zip\", 'r') as zip_ref:\n",
        "        member=zip_ref.namelist()[1]\n",
        "        zip_ref.extract(member,ruta+ruta_full)\n",
        "        os.rename(os.path.join(ruta,ruta_full,member),os.path.join(ruta,ruta_full,\"full_mammo.dcm\"))\n",
        "        datos[\"image_path\"].append(os.path.join(ruta_full,\"full_mammo.dcm\"))\n",
        "    else:\n",
        "      print(ruta_full+member)\n",
        " \n",
        "    descargadoroicrop=tcia.get_image(SeriesInstanceUID2,ruta,\"images.zip\");\n",
        "    if roipath[:-11]==croppath[:-11]:\n",
        "      if descargadoroicrop:\n",
        "        with zipfile.ZipFile(ruta+\"images.zip\", 'r') as zip_ref:\n",
        "          member_1,member_2= zip_ref.namelist()[1:]\n",
        "          zip_ref.extract(member_1,ruta+ruta_roi)\n",
        "          zip_ref.extract(member_2,ruta+ruta_roi)\n",
        "\n",
        "          d=pydicom.filereader.dcmread(os.path.join(ruta,ruta_roi,member_1)).SeriesDescription\n",
        "          p1=os.path.join(ruta_roi,\"crop_mammo.dcm\")\n",
        "          p2=os.path.join(ruta_roi,\"roi_full_mammo.dcm\")\n",
        "          datos[\"cropped_path\"].append(p1)\n",
        "          datos[\"roi_path\"].append(p2)\n",
        "          # cropped images\n",
        "          # ROI mask images\n",
        "          if d == \"ROI mask images\":\n",
        "            p1=os.path.join(ruta_roi,\"roi_full_mammo.dcm\")\n",
        "            p2=os.path.join(ruta_roi,\"crop_mammo.dcm\")\n",
        "          os.rename(os.path.join(ruta,ruta_roi,member_1),ruta+p1)\n",
        "          os.rename(os.path.join(ruta,ruta_roi,member_2),ruta+p2)\n",
        " \n",
        "    else:\n",
        "      descargadocrop=tcia.get_image(SeriesInstanceUID3,ruta,\"images2.zip\")\n",
        "      if descargadoroicrop and descargadocrop:\n",
        "        with zipfile.ZipFile(ruta+\"images.zip\", 'r') as zip_ref:\n",
        "          member= zip_ref.namelist()[1]\n",
        "          zip_ref.extract(member,ruta+ruta_roi)\n",
        "          os.rename(os.path.join(ruta,ruta_roi,member),os.path.join(ruta,ruta_roi,\"roi_full_mammo.dcm\"))\n",
        "          datos[\"roi_path\"].append(os.path.join(ruta_roi,\"roi_full_mammo.dcm\"))\n",
        "        with zipfile.ZipFile(ruta+\"images2.zip\", 'r') as zip_ref:\n",
        "          member= zip_ref.namelist()[1]\n",
        "          zip_ref.extract(member,ruta+ruta_roi)\n",
        "          os.rename(os.path.join(ruta,ruta_roi,member),os.path.join(ruta,ruta_roi,\"crop_mammo.dcm\"))\n",
        "          datos[\"cropped_path\"].append(os.path.join(ruta_roi,\"crop_mammo.dcm\"))\n",
        "  print()\n",
        "  return datos"
      ],
      "execution_count": null,
      "outputs": []
    },
    {
      "cell_type": "code",
      "metadata": {
        "id": "wyisLpN8UGQj",
        "colab_type": "code",
        "colab": {}
      },
      "source": [
        "def do_convert_dicom_to_nii(datos):\n",
        "  newdatos={}\n",
        "  for tipo in datos:\n",
        "    if tipo not in newdatos:\n",
        "      newdatos[tipo]=[]\n",
        "    for img in datos[tipo]:\n",
        "      if \".dcm\" not in img:\n",
        "        newdatos[tipo].append(img)\n",
        "      else:\n",
        "        pathisto=rutadrive+img[:img.rfind(\"/\")]+img[img.rfind(\"/\"):-4]+\".nii.gz\"\n",
        "        if not os.path.exists(pathisto):\n",
        "          cmd=[\"dcm2niix\",\"5\",\"-b\",\"n\",\"-s\",\"y\",\"-z\",\"y\",\"-f\",img[img.rfind(\"/\")+1:-4],\"-o\",rutadrive+img[:img.rfind(\"/\")+1],ruta+img]\n",
        "          r=subprocess.run(cmd)\n",
        "          if r.returncode!=0:\n",
        "            print(\"Problema con \"+img,r)\n",
        "          #else: os.remove(ruta+img)\n",
        "        newdatos[tipo].append(pathisto)\n",
        "  return newdatos"
      ],
      "execution_count": null,
      "outputs": []
    },
    {
      "cell_type": "code",
      "metadata": {
        "id": "IjmJ0bHSWeo8",
        "colab_type": "code",
        "colab": {
          "base_uri": "https://localhost:8080/",
          "height": 34
        },
        "outputId": "300631d9-9b87-4a17-e245-074ac1c8e4aa"
      },
      "source": [
        "# datos1=descargar_imagenes_imgs_2(tcia_client,df_benigno_calc_full[:1])\n",
        "# dic_benigno_calc=do_convert_dicom_to_nii(datos1)"
      ],
      "execution_count": null,
      "outputs": [
        {
          "output_type": "stream",
          "text": [
            ".\n"
          ],
          "name": "stdout"
        }
      ]
    },
    {
      "cell_type": "code",
      "metadata": {
        "id": "9hxVhl6RXRuS",
        "colab_type": "code",
        "colab": {}
      },
      "source": [
        "# datos2=descargar_imagenes_imgs_2(tcia_client,df_benigno_mass_full[50:df_benigno_mass_full.shape[0]//2])\n",
        "# dic_benigno_mass=do_convert_dicom_to_nii(datos2)"
      ],
      "execution_count": null,
      "outputs": []
    },
    {
      "cell_type": "code",
      "metadata": {
        "id": "fKvneeTyO8LT",
        "colab_type": "code",
        "colab": {}
      },
      "source": [
        "# datos3=descargar_imagenes_imgs_2(tcia_client,df_maligno_calc_full[50:df_maligno_calc_full.shape[0]//2])\n",
        "# dic_maligno_calc=do_convert_dicom_to_nii(datos3)"
      ],
      "execution_count": null,
      "outputs": []
    },
    {
      "cell_type": "code",
      "metadata": {
        "id": "OLce5jJXkIql",
        "colab_type": "code",
        "colab": {}
      },
      "source": [
        "# datos4=descargar_imagenes_imgs_2(tcia_client,df_maligno_mass_full[50:df_maligno_mass_full.shape[0]//2])\n",
        "# dic_maligno_mass=do_convert_dicom_to_nii(datos4)"
      ],
      "execution_count": null,
      "outputs": []
    },
    {
      "cell_type": "markdown",
      "metadata": {
        "id": "rLx5UeBerEmH",
        "colab_type": "text"
      },
      "source": [
        "## csv Creados de Benigno y Maligno"
      ]
    },
    {
      "cell_type": "code",
      "metadata": {
        "id": "InoHBwnxWzaw",
        "colab_type": "code",
        "colab": {}
      },
      "source": [
        "#CAMBIAR NOMBRES SEGUN LOS DF QUE SE USEN\n",
        "nombresdf=[\"malignant_calc_case_description_train_set_new.csv\",\n",
        "           \"malignant_mass_case_description_train_set_new.csv\",\n",
        "           \"benign_calc_case_description_train_set_new.csv\",\n",
        "           \"benign_mass_case_description_train_set_new.csv\"]"
      ],
      "execution_count": null,
      "outputs": []
    },
    {
      "cell_type": "code",
      "metadata": {
        "id": "bYsD7QpMhY3_",
        "colab_type": "code",
        "colab": {
          "base_uri": "https://localhost:8080/",
          "height": 34
        },
        "outputId": "1a32567d-d430-4c52-a63a-27edb5ee0868"
      },
      "source": [
        "df_mlg_mass.drop(df_mlg_mass[df_mlg_mass.patient_id.isin([\"Mass-Training_P_00370_RIGHT_MLO\",\"Mass-Training_P_00406_RIGHT_MLO\",\"Mass-Training_P_00637_RIGHT_CC\",\"Mass-Training_P_00720_RIGHT_MLO\",\"Mass-Training_P_00637_RIGHT_CC\"])].index,axis=0,inplace=True)#.reset_index(inplace=True)\n",
        "df_mlg_mass.reset_index(drop=True,inplace=True)\n",
        "df_mlg_mass.shape"
      ],
      "execution_count": null,
      "outputs": [
        {
          "output_type": "execute_result",
          "data": {
            "text/plain": [
              "(313, 5)"
            ]
          },
          "metadata": {
            "tags": []
          },
          "execution_count": 18
        }
      ]
    },
    {
      "cell_type": "code",
      "metadata": {
        "id": "6qCcTFRprF3w",
        "colab_type": "code",
        "colab": {}
      },
      "source": [
        "# df_bng_calc=pd.DataFrame(dic_benigno_calc)\n",
        "# df_bng_calc.to_csv(rutadrive+nombresdf[2])\n",
        "\n",
        "# df_bng_mass=pd.DataFrame(dic_benigno_mass)\n",
        "# df_bng_mass.to_csv(rutadrive+nombresdf[3])\n",
        " \n",
        "# df_mlg_calc1=pd.DataFrame(dic_maligno_calc)\n",
        "# df_mlg_calc.to_csv(rutadrive+nombresdf[0])\n",
        " \n",
        "# df_mlg_mass=pd.DataFrame(dic_maligno_mass)\n",
        "# df_mlg_mass.to_csv(rutadrive+nombresdf[1])"
      ],
      "execution_count": null,
      "outputs": []
    },
    {
      "cell_type": "code",
      "metadata": {
        "id": "3a1RgFV_aXtt",
        "colab_type": "code",
        "colab": {}
      },
      "source": [
        "df_mlg_calc=pd.read_csv(rutadrive+nombresdf[0],index_col=0)\n",
        "\n",
        "df_mlg_mass=pd.read_csv(rutadrive+nombresdf[1],index_col=0)\n",
        "\n",
        "df_bng_calc=pd.read_csv(rutadrive+nombresdf[2],index_col=0)\n",
        "\n",
        "df_bng_mass=pd.read_csv(rutadrive+nombresdf[3],index_col=0)"
      ],
      "execution_count": null,
      "outputs": []
    },
    {
      "cell_type": "code",
      "metadata": {
        "id": "CSQDAXXSnrS3",
        "colab_type": "code",
        "colab": {
          "base_uri": "https://localhost:8080/",
          "height": 85
        },
        "outputId": "7ad8c66f-887b-4b1c-ce18-ef9296473b62"
      },
      "source": [
        "print(df_mlg_calc.shape)\n",
        "print(df_mlg_mass.shape)\n",
        "print(df_bng_calc.shape)\n",
        "print(df_bng_mass.shape)"
      ],
      "execution_count": null,
      "outputs": [
        {
          "output_type": "stream",
          "text": [
            "(271, 5)\n",
            "(313, 5)\n",
            "(263, 5)\n",
            "(288, 5)\n"
          ],
          "name": "stdout"
        }
      ]
    },
    {
      "cell_type": "markdown",
      "metadata": {
        "id": "portMKjtD8dv",
        "colab_type": "text"
      },
      "source": [
        "## Obteniendo imagenes normales"
      ]
    },
    {
      "cell_type": "code",
      "metadata": {
        "colab_type": "code",
        "id": "6utBDWpYhrPh",
        "colab": {}
      },
      "source": [
        "from ftplib import FTP\n",
        "import os\n",
        "import urllib.request as req\n",
        "import shutil\n",
        "from contextlib import closing\n",
        " \n",
        "def dowload_normales():\n",
        "  n=0\n",
        "  host=\"figment.csee.usf.edu\"\n",
        "  folder = ruta + 'NORMAL/'\n",
        "  endrive = rutadrive+'NORMAL/'\n",
        "  if not os.path.exists(folder):\n",
        "    os.makedirs(folder)\n",
        "  lista=[]\n",
        "  with FTP(host,timeout=30) as ftp:\n",
        "      if not os.path.exists(folder):\n",
        "          os.makedirs(folder)\n",
        "      if not os.path.exists(endrive):\n",
        "          os.makedirs(endrive)\n",
        "      # Login to FTP Server\n",
        "      ftp.login()\n",
        "      normals=\"pub/DDSM/cases/normals\"\n",
        "      # Get the list of files in the server\n",
        "      lista_normales = ftp.nlst(normals)\n",
        "      for dir in lista_normales:\n",
        "        # Change the working directory\n",
        "        ftp.cwd(\"/\"+dir+\"/\")\n",
        "        lista_casos=ftp.nlst()\n",
        "        for caso in lista_casos: \n",
        "          if n>150:\n",
        "            return lista\n",
        "          print(caso,n)\n",
        "          lista.append(\"NORMAL/\"+caso)\n",
        "          n+=1\n",
        "          if os.path.exists(endrive+caso+\"/\"):\n",
        "            if len(os.listdir(endrive+caso+\"/\"))>=5:\n",
        "              continue\n",
        "          else: \n",
        "            os.makedirs(endrive+caso+\"/\")\n",
        " \n",
        "          if os.path.exists(folder+caso+\"/\"):\n",
        "            if len(os.listdir(folder+caso+\"/\"))>=5:\n",
        "              continue\n",
        "          else: \n",
        "            os.makedirs(folder+caso+\"/\")\n",
        "          \n",
        "          ftp.cwd(\"/\"+dir+\"/\"+caso+\"/\")   \n",
        "          for filename in ftp.nlst():\n",
        "            if \".16_PGM\" in filename:\n",
        "              continue\n",
        "            # Create the URL from where file has to be downloaded\n",
        "            file = 'ftp://{}/{}/{}/{}'.format(host,dir,caso,filename)\n",
        "            # Create the file name\n",
        "            download_file_name = folder + caso+\"/\"+filename\n",
        "            with closing(req.urlopen(file)) as r:\n",
        "                with open(download_file_name, 'wb') as f:\n",
        "                    shutil.copyfileobj(r, f)\n",
        "  return lista"
      ],
      "execution_count": null,
      "outputs": []
    },
    {
      "cell_type": "code",
      "metadata": {
        "id": "DDpDYXxtNtU6",
        "colab_type": "code",
        "colab": {
          "base_uri": "https://localhost:8080/",
          "height": 1000
        },
        "outputId": "220600ca-a610-4034-8113-b1b2fc39f47e"
      },
      "source": [
        "prueba=dowload_normales()"
      ],
      "execution_count": null,
      "outputs": [
        {
          "output_type": "stream",
          "text": [
            "case0002 0\n",
            "case0003 1\n",
            "case0005 2\n",
            "case0006 3\n",
            "case0009 4\n",
            "case0010 5\n",
            "case0011 6\n",
            "case0012 7\n",
            "case0013 8\n",
            "case0014 9\n",
            "case0015 10\n",
            "case0016 11\n",
            "case0018 12\n",
            "case0020 13\n",
            "case0022 14\n",
            "case0024 15\n",
            "case0026 16\n",
            "case0027 17\n",
            "case0030 18\n",
            "case0031 19\n",
            "case0032 20\n",
            "case0034 21\n",
            "case0035 22\n",
            "case0036 23\n",
            "case0037 24\n",
            "case0039 25\n",
            "case0040 26\n",
            "case0041 27\n",
            "case0042 28\n",
            "case0043 29\n",
            "case0044 30\n",
            "case0045 31\n",
            "case0046 32\n",
            "case0048 33\n",
            "case0049 34\n",
            "case0050 35\n",
            "case0051 36\n",
            "case0052 37\n",
            "case0053 38\n",
            "case0055 39\n",
            "case0056 40\n",
            "case0057 41\n",
            "case0058 42\n",
            "case0059 43\n",
            "case0061 44\n",
            "case0062 45\n",
            "case0063 46\n",
            "case0064 47\n",
            "case0067 48\n",
            "case0068 49\n",
            "case0069 50\n",
            "case0070 51\n",
            "case0071 52\n",
            "case0072 53\n",
            "case0073 54\n",
            "case0074 55\n",
            "case0075 56\n",
            "case0076 57\n",
            "case0077 58\n",
            "case0079 59\n",
            "case0080 60\n",
            "case0089 61\n",
            "case0090 62\n",
            "case0091 63\n",
            "case0092 64\n",
            "case0093 65\n",
            "case0094 66\n",
            "case0095 67\n",
            "case0096 68\n",
            "case0097 69\n",
            "case0099 70\n",
            "case0108 71\n",
            "case0109 72\n",
            "case0110 73\n",
            "case0111 74\n",
            "case0112 75\n",
            "case0114 76\n",
            "case0115 77\n",
            "case0116 78\n",
            "case0119 79\n",
            "case0121 80\n",
            "case0123 81\n",
            "case0124 82\n",
            "case0126 83\n",
            "case0127 84\n",
            "case0128 85\n",
            "case0130 86\n",
            "case0131 87\n",
            "case0133 88\n",
            "case0135 89\n",
            "case0136 90\n",
            "case0137 91\n",
            "case0139 92\n",
            "case0142 93\n",
            "case0143 94\n",
            "case0144 95\n",
            "case0145 96\n",
            "case0146 97\n",
            "case0147 98\n",
            "case0148 99\n",
            "case0149 100\n",
            "case0150 101\n",
            "case0151 102\n",
            "case0152 103\n",
            "case0154 104\n",
            "case0155 105\n",
            "case0156 106\n",
            "case0157 107\n",
            "case0158 108\n",
            "case0159 109\n",
            "case0160 110\n",
            "case0200 111\n",
            "case0201 112\n",
            "case0202 113\n",
            "case0203 114\n",
            "case0204 115\n",
            "case0205 116\n",
            "case0206 117\n",
            "case0207 118\n",
            "case0208 119\n",
            "case0209 120\n",
            "case0210 121\n",
            "case0211 122\n",
            "case0212 123\n",
            "case0214 124\n",
            "case0215 125\n",
            "case0216 126\n",
            "case0217 127\n",
            "case0218 128\n",
            "case0219 129\n",
            "case0220 130\n",
            "case0221 131\n",
            "case0222 132\n",
            "case0223 133\n",
            "case0224 134\n",
            "case0225 135\n",
            "case0226 136\n",
            "case0227 137\n",
            "case0229 138\n",
            "case0230 139\n",
            "case0232 140\n",
            "case0233 141\n",
            "case0234 142\n",
            "case0235 143\n",
            "case0236 144\n",
            "case0237 145\n",
            "case0238 146\n",
            "case0239 147\n",
            "case0240 148\n",
            "case0241 149\n",
            "case0242 150\n"
          ],
          "name": "stdout"
        }
      ]
    },
    {
      "cell_type": "code",
      "metadata": {
        "id": "or87jG4P2j1h",
        "colab_type": "code",
        "colab": {}
      },
      "source": [
        "def split_filename(filepath):\n",
        "  path = os.path.dirname(filepath)\n",
        "  filename = os.path.basename(filepath)\n",
        "  base, ext = os.path.splitext(filename)\n",
        "  return path, base, ext"
      ],
      "execution_count": null,
      "outputs": []
    },
    {
      "cell_type": "code",
      "metadata": {
        "id": "fYrQYFSgYeHX",
        "colab_type": "code",
        "colab": {}
      },
      "source": [
        "#IMAGENES TIFF A DICOM\n",
        "def convert_tiff_dicom(ics_dict,tiff,force=False):\n",
        "  \"\"\"\n",
        "  :param ics_dict: dict with infomation of the image\n",
        "  :param tif: path to tif image\n",
        "  :param force: if True, force the creation of the file\n",
        "  :return: converted file path\n",
        "  \"\"\"\n",
        "  path,base,ext=split_filename(tiff)\n",
        "  dicom_filename=os.path.join(base+\".dcm\")\n",
        " \n",
        "  if os.path.exists(path+\"/\"+dicom_filename) and not force:\n",
        "    return (base,dicom_filename)\n",
        "  _,gg=base.split(\".\")\n",
        "  # Create the metadata for the dataset\n",
        "  file_meta = Dataset()\n",
        "  #file_meta.TransferSyntaxUID = ImplicitVRLittleEndian\n",
        " \n",
        "  # Create some temporary filenames\n",
        "  suffix = '.dcm'\n",
        "  filename_little_endian = tempfile.NamedTemporaryFile(suffix=suffix).name\n",
        "  filename_big_endian = tempfile.NamedTemporaryFile(suffix=suffix).name\n",
        " \n",
        "  # CONFIGURACION DE IMAGEN DICOM BASE CBIS DDSM\n",
        "  file_meta.MediaStorageSOPClassUID = 'Secondary Capture Image Storage'\n",
        "  file_meta.MediaStorageSOPInstanceUID = '1.3.6.1.4.1.9590.100.1.2.289923739312470966435676008311959891294'\n",
        "  file_meta.ImplementationClassUID = '1.2.40.0.13.1.1.1'\n",
        "  \n",
        "  # Create the dataset\n",
        "  ds = FileDataset(filename_little_endian, {}, file_meta=file_meta, preamble=b'\\x00'*128) # pre-existing dicom file\n",
        "  ds.is_little_endian = True\n",
        "  ds.is_implicit_VR = True\n",
        " \n",
        "  ds.PatientName = ics_dict[\"patient_id\"]\n",
        "  ds.PatientID = ics_dict[\"patient_id\"]\n",
        "  im_frame = Image.open(tiff)\n",
        "  np_frame = np.array(im_frame.getdata(),dtype=np.uint16)\n",
        "  ds.Rows = ics_dict[gg][\"height\"]\n",
        "  ds.Columns = ics_dict[gg][\"width\"]\n",
        "  ds.PhotometricInterpretation = \"MONOCHROME2\"\n",
        "  ds.BitsAllocated = ics_dict[gg][\"bpp\"]\n",
        "  ds.BitsStored = ics_dict[gg][\"bpp\"]\n",
        "  ds.SmallestImagePixelValue = 0\n",
        "  ds.LargestImagePixelValue  = 65535\n",
        "  ds.HighBit = 15\n",
        "  ds.PixelRepresentation = 0    #fijo, todos ejemplos usan 0\n",
        "  ds.PixelData = np_frame.tobytes()\n",
        "  ds.save_as(path+\"/\"+dicom_filename)\n",
        "  return (base,dicom_filename)"
      ],
      "execution_count": null,
      "outputs": []
    },
    {
      "cell_type": "code",
      "metadata": {
        "id": "0MWvTPTg_Qy1",
        "colab_type": "code",
        "colab": {}
      },
      "source": [
        "def convert_LJPEG_dcm(dirs):\n",
        "  datos={\"patient_id\":[],\"image_path\":[]}\n",
        "  for dir in dirs:\n",
        "    try:\n",
        "      ics = glob.glob(ruta+dir + '/*.ics')[0]\n",
        "    except:\n",
        "      continue\n",
        "    ics_dict=ddsm.get_ics_info(ics)\n",
        "   \n",
        "    for f in os.listdir(ruta+dir):\n",
        "      \n",
        "      if \".LJPEG\" not in f:\n",
        "        continue\n",
        "      \n",
        "      normal = ddsm.ddsm_abnormality(os.path.join(ruta,dir,f),ics_dict)\n",
        "      tif_file=normal.save_image(od_correct=True)\n",
        "      patient_id,dcm_file=convert_tiff_dicom(ics_dict,tif_file)      \n",
        "      datos[\"patient_id\"].append(patient_id)\n",
        "      datos[\"image_path\"].append(os.path.join(dir,dcm_file))\n",
        " \n",
        "  return datos"
      ],
      "execution_count": null,
      "outputs": []
    },
    {
      "cell_type": "code",
      "metadata": {
        "id": "JxKd1V-lCwkb",
        "colab_type": "code",
        "colab": {}
      },
      "source": [
        "#dcms=convert_LJPEG_dcm(prueba)"
      ],
      "execution_count": null,
      "outputs": []
    },
    {
      "cell_type": "code",
      "metadata": {
        "id": "JG3TUS9fHPrd",
        "colab_type": "code",
        "colab": {}
      },
      "source": [
        "#normales=do_convert_dicom_to_nii(dcms)"
      ],
      "execution_count": null,
      "outputs": []
    },
    {
      "cell_type": "code",
      "metadata": {
        "id": "60XJEaLwkJn4",
        "colab_type": "code",
        "colab": {
          "base_uri": "https://localhost:8080/",
          "height": 34
        },
        "outputId": "340a39a9-0ff5-4946-f03e-f986f24dc540"
      },
      "source": [
        "#df_normals=pd.DataFrame(normales)"
      ],
      "execution_count": null,
      "outputs": [
        {
          "output_type": "execute_result",
          "data": {
            "text/plain": [
              "(604, 2)"
            ]
          },
          "metadata": {
            "tags": []
          },
          "execution_count": 208
        }
      ]
    },
    {
      "cell_type": "code",
      "metadata": {
        "id": "bT1m6fmy3L_7",
        "colab_type": "code",
        "colab": {}
      },
      "source": [
        "#df_normals.to_csv(rutadrive+\"normal_case_set.csv\")"
      ],
      "execution_count": null,
      "outputs": []
    },
    {
      "cell_type": "code",
      "metadata": {
        "id": "UFPpVzqG7yZm",
        "colab_type": "code",
        "colab": {}
      },
      "source": [
        "df_normals=pd.read_csv(rutadrive+\"normal_case_set.csv\",index_col=0)"
      ],
      "execution_count": null,
      "outputs": []
    }
  ]
}