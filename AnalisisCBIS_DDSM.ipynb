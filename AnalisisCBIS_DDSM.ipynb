{
  "nbformat": 4,
  "nbformat_minor": 0,
  "metadata": {
    "colab": {
      "name": "AnalisisCBIS-DDSM.ipynb",
      "provenance": [],
      "collapsed_sections": [
        "portMKjtD8dv"
      ],
      "toc_visible": true,
      "include_colab_link": true
    },
    "kernelspec": {
      "name": "python3",
      "display_name": "Python 3"
    }
  },
  "cells": [
    {
      "cell_type": "markdown",
      "metadata": {
        "id": "view-in-github",
        "colab_type": "text"
      },
      "source": [
        "<a href=\"https://colab.research.google.com/github/JoseAndresEscobar19/Materia_integradora2020I/blob/master/AnalisisCBIS_DDSM.ipynb\" target=\"_parent\"><img src=\"https://colab.research.google.com/assets/colab-badge.svg\" alt=\"Open In Colab\"/></a>"
      ]
    },
    {
      "cell_type": "markdown",
      "metadata": {
        "id": "ZpaG41wXaqJ6",
        "colab_type": "text"
      },
      "source": [
        "### Importando las librerias"
      ]
    },
    {
      "cell_type": "code",
      "metadata": {
        "id": "zn-eHgYSIYYA",
        "colab_type": "code",
        "colab": {
          "base_uri": "https://localhost:8080/",
          "height": 122
        },
        "outputId": "04e1476e-387f-4135-b465-05045e242208"
      },
      "source": [
        "from google.colab import drive\n",
        "drive.mount('/content/drive')"
      ],
      "execution_count": null,
      "outputs": [
        {
          "output_type": "stream",
          "text": [
            "Go to this URL in a browser: https://accounts.google.com/o/oauth2/auth?client_id=947318989803-6bn6qk8qdgf4n4g3pfee6491hc0brc4i.apps.googleusercontent.com&redirect_uri=urn%3aietf%3awg%3aoauth%3a2.0%3aoob&response_type=code&scope=email%20https%3a%2f%2fwww.googleapis.com%2fauth%2fdocs.test%20https%3a%2f%2fwww.googleapis.com%2fauth%2fdrive%20https%3a%2f%2fwww.googleapis.com%2fauth%2fdrive.photos.readonly%20https%3a%2f%2fwww.googleapis.com%2fauth%2fpeopleapi.readonly\n",
            "\n",
            "Enter your authorization code:\n",
            "··········\n",
            "Mounted at /content/drive\n"
          ],
          "name": "stdout"
        }
      ]
    },
    {
      "cell_type": "code",
      "metadata": {
        "id": "wJW4olHfIZcn",
        "colab_type": "code",
        "colab": {}
      },
      "source": [
        "rutadrive=\"/content/drive/My Drive/Materia_integradora/Datasets/CBIS-DDMS/\"\n",
        "ruta=\"/content/Dataset/\""
      ],
      "execution_count": null,
      "outputs": []
    },
    {
      "cell_type": "code",
      "metadata": {
        "id": "4DkbYeXU0K7c",
        "colab_type": "code",
        "colab": {}
      },
      "source": [
        "# !rm *.nii.gz\n",
        "# !rm -r Dataset\n",
        "# !rm -r ddsm_tools/"
      ],
      "execution_count": 81,
      "outputs": []
    },
    {
      "cell_type": "code",
      "metadata": {
        "id": "vDcu0EnlIlo2",
        "colab_type": "code",
        "colab": {
          "base_uri": "https://localhost:8080/",
          "height": 1000
        },
        "outputId": "647cf070-e13e-4062-d3b2-37e92c1abdfc"
      },
      "source": [
        "!cp -r /content/drive/My\\ Drive/Materia_integradora/Datasets/CBIS-DDMS/Librerias/ddsm_tools /content/ddsm_tools\n",
        "!chmod 755 ddsm_tools/jpegdir/jpeg\n",
        "!apt-get install -y pigz\n",
        "!apt-get install dcm2niix\n",
        "!pip install pydicom\n",
        "!pip install opencv-python\n",
        "!pip install pillow\n",
        "!pip install nipype\n",
        "!pip install nibabel\n",
        " \n",
        "import ddsm_tools.my_ddsm_converter as ddsm\n",
        "import pandas as pd \n",
        "import os\n",
        "import zipfile\n",
        "import numpy as np\n",
        "import urllib.request, urllib.error, urllib.parse\n",
        "import urllib.request, urllib.parse, urllib.error\n",
        "import sys\n",
        "import math\n",
        "import tempfile\n",
        "import pydicom\n",
        "from pydicom.uid import ImplicitVRLittleEndian\n",
        "from pydicom.dataset import Dataset, FileDataset\n",
        "import matplotlib.pyplot as plt\n",
        "import cv2\n",
        "import csv\n",
        "import shutil\n",
        "import subprocess\n",
        "import glob\n",
        "import nibabel as nib\n",
        "from PIL import Image"
      ],
      "execution_count": null,
      "outputs": [
        {
          "output_type": "stream",
          "text": [
            "Reading package lists... Done\n",
            "Building dependency tree       \n",
            "Reading state information... Done\n",
            "The following package was automatically installed and is no longer required:\n",
            "  libnvidia-common-440\n",
            "Use 'apt autoremove' to remove it.\n",
            "The following NEW packages will be installed:\n",
            "  pigz\n",
            "0 upgraded, 1 newly installed, 0 to remove and 35 not upgraded.\n",
            "Need to get 57.4 kB of archives.\n",
            "After this operation, 259 kB of additional disk space will be used.\n",
            "Get:1 http://archive.ubuntu.com/ubuntu bionic/universe amd64 pigz amd64 2.4-1 [57.4 kB]\n",
            "Fetched 57.4 kB in 1s (64.1 kB/s)\n",
            "Selecting previously unselected package pigz.\n",
            "(Reading database ... 144465 files and directories currently installed.)\n",
            "Preparing to unpack .../archives/pigz_2.4-1_amd64.deb ...\n",
            "Unpacking pigz (2.4-1) ...\n",
            "Setting up pigz (2.4-1) ...\n",
            "Processing triggers for man-db (2.8.3-2ubuntu0.1) ...\n",
            "Reading package lists... Done\n",
            "Building dependency tree       \n",
            "Reading state information... Done\n",
            "The following package was automatically installed and is no longer required:\n",
            "  libnvidia-common-440\n",
            "Use 'apt autoremove' to remove it.\n",
            "The following additional packages will be installed:\n",
            "  libyaml-cpp0.5v5\n",
            "The following NEW packages will be installed:\n",
            "  dcm2niix libyaml-cpp0.5v5\n",
            "0 upgraded, 2 newly installed, 0 to remove and 35 not upgraded.\n",
            "Need to get 295 kB of archives.\n",
            "After this operation, 1,105 kB of additional disk space will be used.\n",
            "Get:1 http://archive.ubuntu.com/ubuntu bionic/universe amd64 libyaml-cpp0.5v5 amd64 0.5.2-4ubuntu1 [150 kB]\n",
            "Get:2 http://archive.ubuntu.com/ubuntu bionic/universe amd64 dcm2niix amd64 1.0.20171215-1 [145 kB]\n",
            "Fetched 295 kB in 1s (283 kB/s)\n",
            "Selecting previously unselected package libyaml-cpp0.5v5:amd64.\n",
            "(Reading database ... 144474 files and directories currently installed.)\n",
            "Preparing to unpack .../libyaml-cpp0.5v5_0.5.2-4ubuntu1_amd64.deb ...\n",
            "Unpacking libyaml-cpp0.5v5:amd64 (0.5.2-4ubuntu1) ...\n",
            "Selecting previously unselected package dcm2niix.\n",
            "Preparing to unpack .../dcm2niix_1.0.20171215-1_amd64.deb ...\n",
            "Unpacking dcm2niix (1.0.20171215-1) ...\n",
            "Setting up libyaml-cpp0.5v5:amd64 (0.5.2-4ubuntu1) ...\n",
            "Setting up dcm2niix (1.0.20171215-1) ...\n",
            "Processing triggers for libc-bin (2.27-3ubuntu1) ...\n",
            "/sbin/ldconfig.real: /usr/local/lib/python3.6/dist-packages/ideep4py/lib/libmkldnn.so.0 is not a symbolic link\n",
            "\n",
            "Processing triggers for man-db (2.8.3-2ubuntu0.1) ...\n",
            "Collecting pydicom\n",
            "\u001b[?25l  Downloading https://files.pythonhosted.org/packages/d3/56/342e1f8ce5afe63bf65c23d0b2c1cd5a05600caad1c211c39725d3a4cc56/pydicom-2.0.0-py3-none-any.whl (35.4MB)\n",
            "\u001b[K     |████████████████████████████████| 35.5MB 117kB/s \n",
            "\u001b[?25hInstalling collected packages: pydicom\n",
            "Successfully installed pydicom-2.0.0\n",
            "Requirement already satisfied: opencv-python in /usr/local/lib/python3.6/dist-packages (4.1.2.30)\n",
            "Requirement already satisfied: numpy>=1.11.3 in /usr/local/lib/python3.6/dist-packages (from opencv-python) (1.18.5)\n",
            "Requirement already satisfied: pillow in /usr/local/lib/python3.6/dist-packages (7.0.0)\n",
            "Collecting nipype\n",
            "\u001b[?25l  Downloading https://files.pythonhosted.org/packages/fe/d7/171ecdb1de3f7db535033e144d74735c8761c77bf17a0d1e62672bce08cc/nipype-1.5.0-py3-none-any.whl (3.1MB)\n",
            "\u001b[K     |████████████████████████████████| 3.1MB 4.6MB/s \n",
            "\u001b[?25hRequirement already satisfied: nibabel>=2.1.0 in /usr/local/lib/python3.6/dist-packages (from nipype) (3.0.2)\n",
            "Collecting prov>=1.5.2\n",
            "\u001b[?25l  Downloading https://files.pythonhosted.org/packages/aa/f1/85f277cf15ce2fed6f189b220ff14d7b33b21cc7beb95ae48f1255672e74/prov-1.5.3-py2.py3-none-any.whl (423kB)\n",
            "\u001b[K     |████████████████████████████████| 430kB 30.0MB/s \n",
            "\u001b[?25hRequirement already satisfied: numpy>=1.13; python_version < \"3.7\" in /usr/local/lib/python3.6/dist-packages (from nipype) (1.18.5)\n",
            "Collecting traits!=5.0,>=4.6\n",
            "\u001b[?25l  Downloading https://files.pythonhosted.org/packages/94/d4/be3765c4c1ada555a91daa5cc9df3b6c2557ec4b55ba181c23ef5682e1f8/traits-6.1.1.tar.gz (567kB)\n",
            "\u001b[K     |████████████████████████████████| 573kB 48.1MB/s \n",
            "\u001b[?25hRequirement already satisfied: pydotplus in /usr/local/lib/python3.6/dist-packages (from nipype) (2.0.2)\n",
            "Requirement already satisfied: python-dateutil>=2.2 in /usr/local/lib/python3.6/dist-packages (from nipype) (2.8.1)\n",
            "Requirement already satisfied: packaging in /usr/local/lib/python3.6/dist-packages (from nipype) (20.4)\n",
            "Requirement already satisfied: click>=6.6.0 in /usr/local/lib/python3.6/dist-packages (from nipype) (7.1.2)\n",
            "Collecting etelemetry>=0.2.0\n",
            "  Downloading https://files.pythonhosted.org/packages/50/fe/7b4a4d7bd2756884ba2af5445ac538bff20ca8e6c89e24b253cc51845f1b/etelemetry-0.2.1-py3-none-any.whl\n",
            "Requirement already satisfied: networkx>=1.9 in /usr/local/lib/python3.6/dist-packages (from nipype) (2.4)\n",
            "Collecting simplejson>=3.8.0\n",
            "\u001b[?25l  Downloading https://files.pythonhosted.org/packages/73/96/1e6b19045375890068d7342cbe280dd64ae73fd90b9735b5efb8d1e044a1/simplejson-3.17.2-cp36-cp36m-manylinux2010_x86_64.whl (127kB)\n",
            "\u001b[K     |████████████████████████████████| 133kB 45.2MB/s \n",
            "\u001b[?25hCollecting rdflib>=5.0.0\n",
            "\u001b[?25l  Downloading https://files.pythonhosted.org/packages/d0/6b/6454aa1db753c0f8bc265a5bd5c10b5721a4bb24160fb4faf758cf6be8a1/rdflib-5.0.0-py3-none-any.whl (231kB)\n",
            "\u001b[K     |████████████████████████████████| 235kB 46.9MB/s \n",
            "\u001b[?25hRequirement already satisfied: scipy>=0.14 in /usr/local/lib/python3.6/dist-packages (from nipype) (1.4.1)\n",
            "Requirement already satisfied: pydot>=1.2.3 in /usr/local/lib/python3.6/dist-packages (from nipype) (1.3.0)\n",
            "Requirement already satisfied: filelock>=3.0.0 in /usr/local/lib/python3.6/dist-packages (from nipype) (3.0.12)\n",
            "Requirement already satisfied: six>=1.9.0 in /usr/local/lib/python3.6/dist-packages (from prov>=1.5.2->nipype) (1.15.0)\n",
            "Requirement already satisfied: lxml>=3.3.5 in /usr/local/lib/python3.6/dist-packages (from prov>=1.5.2->nipype) (4.2.6)\n",
            "Requirement already satisfied: pyparsing>=2.0.1 in /usr/local/lib/python3.6/dist-packages (from pydotplus->nipype) (2.4.7)\n",
            "Collecting ci-info>=0.2\n",
            "  Downloading https://files.pythonhosted.org/packages/cf/01/664a10490000d7154fa71358af87681696b8116a12d869a267063c470fbc/ci_info-0.2.0-py3-none-any.whl\n",
            "Requirement already satisfied: requests in /usr/local/lib/python3.6/dist-packages (from etelemetry>=0.2.0->nipype) (2.23.0)\n",
            "Requirement already satisfied: decorator>=4.3.0 in /usr/local/lib/python3.6/dist-packages (from networkx>=1.9->nipype) (4.4.2)\n",
            "Collecting isodate\n",
            "\u001b[?25l  Downloading https://files.pythonhosted.org/packages/9b/9f/b36f7774ff5ea8e428fdcfc4bb332c39ee5b9362ddd3d40d9516a55221b2/isodate-0.6.0-py2.py3-none-any.whl (45kB)\n",
            "\u001b[K     |████████████████████████████████| 51kB 5.9MB/s \n",
            "\u001b[?25hRequirement already satisfied: idna<3,>=2.5 in /usr/local/lib/python3.6/dist-packages (from requests->etelemetry>=0.2.0->nipype) (2.10)\n",
            "Requirement already satisfied: urllib3!=1.25.0,!=1.25.1,<1.26,>=1.21.1 in /usr/local/lib/python3.6/dist-packages (from requests->etelemetry>=0.2.0->nipype) (1.24.3)\n",
            "Requirement already satisfied: chardet<4,>=3.0.2 in /usr/local/lib/python3.6/dist-packages (from requests->etelemetry>=0.2.0->nipype) (3.0.4)\n",
            "Requirement already satisfied: certifi>=2017.4.17 in /usr/local/lib/python3.6/dist-packages (from requests->etelemetry>=0.2.0->nipype) (2020.6.20)\n",
            "Building wheels for collected packages: traits\n",
            "  Building wheel for traits (setup.py) ... \u001b[?25l\u001b[?25hdone\n",
            "  Created wheel for traits: filename=traits-6.1.1-cp36-cp36m-linux_x86_64.whl size=529543 sha256=151efe4ddc39f7c38faf0b0e0e51941c1478f1a7b1eb9f7655023e2e7e10cb8b\n",
            "  Stored in directory: /root/.cache/pip/wheels/24/eb/e5/6a06dad037ce5c932e8034be555c681122a7c56b7497306ae7\n",
            "Successfully built traits\n",
            "Installing collected packages: isodate, rdflib, prov, traits, ci-info, etelemetry, simplejson, nipype\n",
            "Successfully installed ci-info-0.2.0 etelemetry-0.2.1 isodate-0.6.0 nipype-1.5.0 prov-1.5.3 rdflib-5.0.0 simplejson-3.17.2 traits-6.1.1\n",
            "Requirement already satisfied: nibabel in /usr/local/lib/python3.6/dist-packages (3.0.2)\n",
            "Requirement already satisfied: numpy>=1.12 in /usr/local/lib/python3.6/dist-packages (from nibabel) (1.18.5)\n"
          ],
          "name": "stdout"
        }
      ]
    },
    {
      "cell_type": "code",
      "metadata": {
        "id": "c7fjZgF2PkE1",
        "colab_type": "code",
        "colab": {}
      },
      "source": [
        "if not os.path.exists(\"Dataset\"):\n",
        "  os.mkdir(\"Dataset\")"
      ],
      "execution_count": 82,
      "outputs": []
    },
    {
      "cell_type": "markdown",
      "metadata": {
        "id": "3iQPxEV1mp-K",
        "colab_type": "text"
      },
      "source": [
        "### Obteniendo estadisticas del dataset"
      ]
    },
    {
      "cell_type": "code",
      "metadata": {
        "id": "hOq8raPMIoTP",
        "colab_type": "code",
        "colab": {
          "base_uri": "https://localhost:8080/",
          "height": 119
        },
        "outputId": "d155da11-770b-477e-a626-1ef496477ae3"
      },
      "source": [
        "df_calc_train=pd.read_csv(rutadrive+\"calc_case_description_train_set.csv\")\n",
        "df_calc_train2=df_calc_train[df_calc_train['pathology'].isin([\"MALIGNANT\",\"BENIGN\"])]\n",
        "df_2.head()\n",
        "print(df_2[\"pathology\"].value_counts())\n",
        "dff_2 = df_2[[\"pathology\",\"patient_id\"]]\n",
        "d=dff_2.groupby(['patient_id','pathology']).count().reset_index()\n",
        "d[\"pathology\"].value_counts()"
      ],
      "execution_count": null,
      "outputs": [
        {
          "output_type": "stream",
          "text": [
            "MALIGNANT    544\n",
            "BENIGN       528\n",
            "Name: pathology, dtype: int64\n"
          ],
          "name": "stdout"
        },
        {
          "output_type": "execute_result",
          "data": {
            "text/plain": [
              "MALIGNANT    276\n",
              "BENIGN       258\n",
              "Name: pathology, dtype: int64"
            ]
          },
          "metadata": {
            "tags": []
          },
          "execution_count": 11
        }
      ]
    },
    {
      "cell_type": "code",
      "metadata": {
        "id": "UqlS6QxSq_0p",
        "colab_type": "code",
        "colab": {
          "base_uri": "https://localhost:8080/",
          "height": 119
        },
        "outputId": "364c0ff6-9dd9-49ec-fb7e-e913c318e535"
      },
      "source": [
        "df_calc_test=pd.read_csv(rutadrive+\"calc_case_description_test_set.csv\")\n",
        "df_calc_test2=df_calc_test[df_calc_test['pathology'].isin([\"MALIGNANT\",\"BENIGN\"])]\n",
        "df_calc_test2.head()\n",
        "print(df_calc_test2[\"pathology\"].value_counts())\n",
        "dff_2 = df_calc_test2[[\"pathology\",\"patient_id\"]]\n",
        "d=dff_2.groupby(['patient_id','pathology']).count().reset_index()\n",
        "d[\"pathology\"].value_counts()"
      ],
      "execution_count": null,
      "outputs": [
        {
          "output_type": "stream",
          "text": [
            "BENIGN       130\n",
            "MALIGNANT    129\n",
            "Name: pathology, dtype: int64\n"
          ],
          "name": "stdout"
        },
        {
          "output_type": "execute_result",
          "data": {
            "text/plain": [
              "BENIGN       70\n",
              "MALIGNANT    67\n",
              "Name: pathology, dtype: int64"
            ]
          },
          "metadata": {
            "tags": []
          },
          "execution_count": 6
        }
      ]
    },
    {
      "cell_type": "code",
      "metadata": {
        "id": "_lNm3-Kps9S1",
        "colab_type": "code",
        "colab": {
          "base_uri": "https://localhost:8080/",
          "height": 119
        },
        "outputId": "a3285e15-a1a6-498e-f1fb-02771794db67"
      },
      "source": [
        "df_masa_train=pd.read_csv(rutadrive+\"mass_case_description_train_set.csv\")\n",
        "df_masa_train2=df_masa_train[df_masa_train['pathology'].isin([\"MALIGNANT\",\"BENIGN\"])]\n",
        "df_masa_train2.head()\n",
        "print(df_masa_train2[\"pathology\"].value_counts())\n",
        "dff_2 = df_masa_train2[[\"pathology\",\"patient_id\"]]\n",
        "d=dff_2.groupby(['patient_id','pathology']).count().reset_index()\n",
        "d[\"pathology\"].value_counts()"
      ],
      "execution_count": null,
      "outputs": [
        {
          "output_type": "stream",
          "text": [
            "MALIGNANT    637\n",
            "BENIGN       577\n",
            "Name: pathology, dtype: int64\n"
          ],
          "name": "stdout"
        },
        {
          "output_type": "execute_result",
          "data": {
            "text/plain": [
              "MALIGNANT    346\n",
              "BENIGN       304\n",
              "Name: pathology, dtype: int64"
            ]
          },
          "metadata": {
            "tags": []
          },
          "execution_count": 7
        }
      ]
    },
    {
      "cell_type": "code",
      "metadata": {
        "id": "IEtNEgVes9eq",
        "colab_type": "code",
        "colab": {
          "base_uri": "https://localhost:8080/",
          "height": 119
        },
        "outputId": "05ecba25-c735-4177-f852-46a64a1816b4"
      },
      "source": [
        "df_masa_test=pd.read_csv(rutadrive+\"mass_case_description_test_set.csv\")\n",
        "df_masa_test2=df_masa_test[df_masa_test['pathology'].isin([\"MALIGNANT\",\"BENIGN\"])]\n",
        "df_masa_test2.head()\n",
        "print(df_masa_test2[\"pathology\"].value_counts())\n",
        "dff_2 = df_masa_test2[[\"pathology\",\"patient_id\"]]\n",
        "d=dff_2.groupby(['patient_id','pathology']).count().reset_index()\n",
        "d[\"pathology\"].value_counts()"
      ],
      "execution_count": null,
      "outputs": [
        {
          "output_type": "stream",
          "text": [
            "BENIGN       194\n",
            "MALIGNANT    147\n",
            "Name: pathology, dtype: int64\n"
          ],
          "name": "stdout"
        },
        {
          "output_type": "execute_result",
          "data": {
            "text/plain": [
              "BENIGN       101\n",
              "MALIGNANT     85\n",
              "Name: pathology, dtype: int64"
            ]
          },
          "metadata": {
            "tags": []
          },
          "execution_count": 8
        }
      ]
    },
    {
      "cell_type": "markdown",
      "metadata": {
        "id": "upaSgo9_m-B8",
        "colab_type": "text"
      },
      "source": [
        "### Creando particiones de los datasets"
      ]
    },
    {
      "cell_type": "code",
      "metadata": {
        "id": "ib3CQQWhWBB4",
        "colab_type": "code",
        "colab": {}
      },
      "source": [
        "df_benigno_calc_full=df_calc_train[df_calc_train['pathology'].isin([\"BENIGN\"])]\n",
        "df_benigno_calc = df_benigno_calc_full.head(50)\n",
        "df_maligno_calc_full=df_calc_train[df_calc_train['pathology'].isin([\"MALIGNANT\"])]\n",
        "df_maligno_calc = df_maligno_calc_full.head(50)\n",
        "df_benigno_mass_full=df_masa_train[df_masa_train['pathology'].isin([\"BENIGN\"])]\n",
        "df_benigno_mass = df_benigno_mass_full.head(50)\n",
        "df_maligno_mass_full=df_masa_train[df_masa_train['pathology'].isin([\"MALIGNANT\"])]\n",
        "df_maligno_mass = df_maligno_mass_full.head(50)"
      ],
      "execution_count": null,
      "outputs": []
    },
    {
      "cell_type": "markdown",
      "metadata": {
        "id": "9-leFZLZiAPs",
        "colab_type": "text"
      },
      "source": [
        "### Clase para conexion y descarga de imagenes"
      ]
    },
    {
      "cell_type": "code",
      "metadata": {
        "id": "kGOPcUq6kmxz",
        "colab_type": "code",
        "colab": {}
      },
      "source": [
        "#\n",
        "# Refer https://wiki.cancerimagingarchive.net/display/Public/REST+API+Usage+Guide for complete list of API\n",
        "#\n",
        "class TCIAClient:\n",
        "    GET_IMAGE = \"getImage\"\n",
        " \n",
        "    def __init__(self , baseUrl, resource):\n",
        "        self.baseUrl = baseUrl + \"/\" + resource\n",
        " \n",
        "    def execute(self, url, queryParameters={}):\n",
        "        queryParameters = dict((k, v) for k, v in queryParameters.items() if v)\n",
        "        queryString = \"?%s\" % urllib.parse.urlencode(queryParameters)\n",
        "        requestUrl = url + queryString\n",
        "        request = urllib.request.Request(url=requestUrl)\n",
        "        resp = urllib.request.urlopen(request)\n",
        "        return resp\n",
        " \n",
        " \n",
        "    def get_image(self , seriesInstanceUid , downloadPath, zipFileName):\n",
        "        serviceUrl = self.baseUrl + \"/query/\" + self.GET_IMAGE\n",
        "        queryParameters = { \"SeriesInstanceUID\" : seriesInstanceUid }\n",
        "        os.umask(0o002)\n",
        "        try:\n",
        "            file = os.path.join(downloadPath, zipFileName)\n",
        "            resp = self.execute( serviceUrl , queryParameters)\n",
        "            downloaded = 0\n",
        "            CHUNK = 256 * 10240\n",
        "            with open(file, 'wb') as fp:\n",
        "                while True:\n",
        "                    chunk = resp.read(CHUNK)\n",
        "                    downloaded += len(chunk)\n",
        "                    if not chunk: break\n",
        "                    fp.write(chunk)\n",
        "        except urllib.error.HTTPError as e:\n",
        "            print(\"HTTP Error:\",e.code , serviceUrl)\n",
        "            return False\n",
        "        except urllib.error.URLError as e:\n",
        "            print(\"URL Error:\",e.reason , serviceUrl)\n",
        "            return False\n",
        " \n",
        "        return True"
      ],
      "execution_count": null,
      "outputs": []
    },
    {
      "cell_type": "code",
      "metadata": {
        "id": "ZnQja1T3kvx6",
        "colab_type": "code",
        "colab": {}
      },
      "source": [
        "tcia_client = TCIAClient(baseUrl=\"https://services.cancerimagingarchive.net/services/v4\",resource = \"TCIA\")"
      ],
      "execution_count": null,
      "outputs": []
    },
    {
      "cell_type": "markdown",
      "metadata": {
        "id": "ImbcWUZLhxnl",
        "colab_type": "text"
      },
      "source": [
        "## Descargando las imagenes y convirtiendolas a nii"
      ]
    },
    {
      "cell_type": "code",
      "metadata": {
        "id": "HeqPOiPJNSl_",
        "colab_type": "code",
        "colab": {}
      },
      "source": [
        "def descargar_imagenes_imgs_2(tcia,data):\n",
        "  datos={\"patient_id\":[],\"patient_name\":[],\"abnormality type\":[],\"breast_density\":[],\n",
        "         \"subtlety\":[],\"assessment\":[],\"image_path\":[],\"roi_path\":[],\"pathology\":[]}\n",
        "  for p_id,imgpath,roipath,pathology,abnormality,density,subtlety,assessment in zip( data[\"patient_id\"],\n",
        "                                                                                                data[\"image file path\"],\n",
        "                                                                                            data[\"ROI mask file path\"],\n",
        "                                                                                            data[\"pathology\"],\n",
        "                                                                                            data[\"abnormality type\"],\n",
        "                                                                                            data[\"breast density\"],\n",
        "                                                                                            data[\"subtlety\"],\n",
        "                                                                                            data[\"assessment\"]\n",
        "                                                                                            ): \n",
        "    print(\".\",end=\"\")\n",
        "    imgpath=imgpath.strip()\n",
        "    roipath=roipath.strip()\n",
        "    # obtiniendo informacion de la imagen\n",
        "    patient_id,StudyInstanceUD1,SeriesInstanceUID1,filename=imgpath.rstrip().split(\"/\")\n",
        "    patient_id2,StudyInstanceUD2,SeriesInstanceUID2,filename2=roipath.rstrip().split(\"/\")\n",
        " \n",
        "    ruta_full=os.path.join(pathology,\"full_mammo\",patient_id,SeriesInstanceUID1)\n",
        "    ruta_roi=os.path.join(pathology,\"ground_truth\",patient_id,SeriesInstanceUID2)\n",
        " \n",
        "\n",
        "    # Si la ruta no existe, se la crea (es temporal)\n",
        "    if not os.path.exists(ruta+ruta_full):\n",
        "      os.makedirs(ruta+ruta_full)\n",
        "    if not os.path.exists(rutadrive+ruta_full):\n",
        "      os.makedirs(rutadrive+ruta_full)\n",
        "    if not os.path.exists(rutadrive+ruta_roi):\n",
        "      os.makedirs(rutadrive+ruta_roi)\n",
        " \n",
        "    # descargando las imagenes del repositorio CBIS\n",
        "    if not os.path.exists(os.path.join(ruta,ruta_full,\"full_mammo.dcm\")):\n",
        "      descargadofull=tcia.get_image(SeriesInstanceUID1,ruta,\"images.zip\");\n",
        "  \n",
        "      #descomprimiendo las imagenes y renombrarlas a un nombre mas significativo\n",
        "      if descargadofull:\n",
        "        with zipfile.ZipFile(ruta+\"images.zip\", 'r') as zip_ref:\n",
        "          member=zip_ref.namelist()[1]\n",
        "          zip_ref.extract(member,ruta+ruta_full)\n",
        "          os.rename(os.path.join(ruta,ruta_full,member),os.path.join(ruta,ruta_full,\"full_mammo.dcm\"))\n",
        "      else:\n",
        "        print(ruta_full+member)\n",
        "    if not os.path.exists(os.path.join(os.path.join(ruta,ruta_roi,\"roi_full_mammo.dcm\"))):\n",
        "      descargadoroicrop=tcia.get_image(SeriesInstanceUID2,ruta,\"images.zip\");\n",
        "      if descargadoroicrop:\n",
        "          with zipfile.ZipFile(ruta+\"images.zip\", 'r') as zip_ref:\n",
        "            for member in zip_ref.namelist()[1:]:\n",
        "              zip_ref.extract(member,ruta+ruta_roi)\n",
        "              d = pydicom.read_file(os.path.join(ruta,ruta_roi,member))\n",
        "              if d.SeriesDescription == \"ROI mask images\":\n",
        "                full = pydicom.read_file(os.path.join(ruta,ruta_full,\"full_mammo.dcm\"))\n",
        "                if d.Columns == full.Columns and d.Rows == full.Rows:\n",
        "                  p = os.path.join(ruta_roi,\"roi_full_mammo.dcm\")\n",
        "                  datos[\"roi_path\"].append(p)\n",
        "                  datos[\"image_path\"].append(os.path.join(ruta_full,\"full_mammo.dcm\"))\n",
        "                  datos[\"abnormality type\"].append(abnormality)\n",
        "                  datos[\"pathology\"].append(pathology)\n",
        "                  datos[\"patient_id\"].append(p_id)\n",
        "                  datos[\"patient_name\"].append(patient_id)\n",
        "                  datos[\"breast_density\"].append(density)\n",
        "                  datos[\"subtlety\"].append(subtlety)\n",
        "                  datos[\"assessment\"].append(assessment)\n",
        "                  os.rename(os.path.join(ruta,ruta_roi,member),ruta+p)\n",
        "                break\n",
        "    else:\n",
        "      datos[\"roi_path\"].append(os.path.join(ruta_roi,\"roi_full_mammo.dcm\"))\n",
        "      datos[\"image_path\"].append(os.path.join(ruta_full,\"full_mammo.dcm\"))\n",
        "      datos[\"abnormality type\"].append(abnormality)\n",
        "      datos[\"pathology\"].append(pathology)\n",
        "      datos[\"patient_id\"].append(p_id)\n",
        "      datos[\"patient_name\"].append(patient_id)\n",
        "      datos[\"breast_density\"].append(density)\n",
        "      datos[\"subtlety\"].append(subtlety)\n",
        "      datos[\"assessment\"].append(assessment)\n",
        "    # else:\n",
        "    #   descargadocrop=tcia.get_image(SeriesInstanceUID3,ruta,\"images2.zip\")\n",
        "    #   if descargadoroicrop and descargadocrop:\n",
        "    #     with zipfile.ZipFile(ruta+\"images.zip\", 'r') as zip_ref:\n",
        "    #       member= zip_ref.namelist()[1]\n",
        "    #       zip_ref.extract(member,ruta+ruta_roi)\n",
        "    #       os.rename(os.path.join(ruta,ruta_roi,member),os.path.join(ruta,ruta_roi,\"roi_full_mammo.dcm\"))\n",
        "    #       datos[\"roi_path\"].append(os.path.join(ruta_roi,\"roi_full_mammo.dcm\"))\n",
        "    #     with zipfile.ZipFile(ruta+\"images2.zip\", 'r') as zip_ref:\n",
        "    #       member= zip_ref.namelist()[1]\n",
        "    #       zip_ref.extract(member,ruta+ruta_roi)\n",
        "    #       os.rename(os.path.join(ruta,ruta_roi,member),os.path.join(ruta,ruta_roi,\"crop_mammo.dcm\"))\n",
        "    #       datos[\"cropped_path\"].append(os.path.join(ruta_roi,\"crop_mammo.dcm\"))\n",
        "  print()\n",
        "  return datos"
      ],
      "execution_count": 84,
      "outputs": []
    },
    {
      "cell_type": "code",
      "metadata": {
        "id": "wyisLpN8UGQj",
        "colab_type": "code",
        "colab": {}
      },
      "source": [
        "def do_convert_dicom_to_nii(datos):\n",
        "  newdatos={}\n",
        "  for tipo in datos:\n",
        "    if tipo not in newdatos:\n",
        "      newdatos[tipo]=[]\n",
        "    for img in datos[tipo]:\n",
        "      if \".dcm\" not in str(img):\n",
        "        newdatos[tipo].append(img)\n",
        "      else:\n",
        "        pathisto=rutadrive+img[:img.rfind(\"/\")]+img[img.rfind(\"/\"):-4]+\".nii.gz\"\n",
        "        if not os.path.exists(pathisto):\n",
        "          cmd=[\"dcm2niix\",\"5\",\"-b\",\"n\",\"-s\",\"y\",\"-z\",\"y\",\"-f\",img[img.rfind(\"/\")+1:-4],\"-o\",rutadrive+img[:img.rfind(\"/\")+1],ruta+img]\n",
        "          r=subprocess.run(cmd)\n",
        "          if r.returncode!=0:\n",
        "            print(\"Problema con \"+img,r)\n",
        "          # else: os.remove(ruta+img)\n",
        "        newdatos[tipo].append(pathisto)\n",
        "  return newdatos"
      ],
      "execution_count": 56,
      "outputs": []
    },
    {
      "cell_type": "markdown",
      "metadata": {
        "id": "4S5pFXhyJo0e",
        "colab_type": "text"
      },
      "source": [
        "Creando diccionarios para todo el grupo de anormalidad masa"
      ]
    },
    {
      "cell_type": "code",
      "metadata": {
        "id": "IjmJ0bHSWeo8",
        "colab_type": "code",
        "colab": {
          "base_uri": "https://localhost:8080/",
          "height": 241
        },
        "outputId": "7c522a1c-70ec-4a7d-ef3c-0872566b7cf6"
      },
      "source": [
        "# datos1=descargar_imagenes_imgs_2(tcia_client,df_masa_train2)\n",
        "# dic_benigno_calc=do_convert_dicom_to_nii(datos1)"
      ],
      "execution_count": 57,
      "outputs": [
        {
          "output_type": "stream",
          "text": [
            "..............................................................................................................................................................................................................................................................................................................................................................................................................................................................................................................................................................................................................................................................................................................................................................................................................................................................................................................................................................................................................................................................................................................................................................................................................................................................\n",
            "Problema con MALIGNANT/full_mammo/Mass-Training_P_00034_RIGHT_MLO/1.3.6.1.4.1.9590.100.1.2.369255064712196304011941917441138397637/full_mammo.dcm CompletedProcess(args=['dcm2niix', '5', '-b', 'n', '-s', 'y', '-z', 'y', '-f', 'full_mammo', '-o', '/content/drive/My Drive/Materia_integradora/Datasets/CBIS-DDMS/MALIGNANT/full_mammo/Mass-Training_P_00034_RIGHT_MLO/1.3.6.1.4.1.9590.100.1.2.369255064712196304011941917441138397637/', '/content/Dataset/MALIGNANT/full_mammo/Mass-Training_P_00034_RIGHT_MLO/1.3.6.1.4.1.9590.100.1.2.369255064712196304011941917441138397637/full_mammo.dcm'], returncode=1)\n",
            "Problema con MALIGNANT/full_mammo/Mass-Training_P_00370_RIGHT_MLO/1.3.6.1.4.1.9590.100.1.2.370999277211359885401017875750544572719/full_mammo.dcm CompletedProcess(args=['dcm2niix', '5', '-b', 'n', '-s', 'y', '-z', 'y', '-f', 'full_mammo', '-o', '/content/drive/My Drive/Materia_integradora/Datasets/CBIS-DDMS/MALIGNANT/full_mammo/Mass-Training_P_00370_RIGHT_MLO/1.3.6.1.4.1.9590.100.1.2.370999277211359885401017875750544572719/', '/content/Dataset/MALIGNANT/full_mammo/Mass-Training_P_00370_RIGHT_MLO/1.3.6.1.4.1.9590.100.1.2.370999277211359885401017875750544572719/full_mammo.dcm'], returncode=1)\n",
            "Problema con MALIGNANT/full_mammo/Mass-Training_P_00406_RIGHT_MLO/1.3.6.1.4.1.9590.100.1.2.103494873713070714519724174710474902216/full_mammo.dcm CompletedProcess(args=['dcm2niix', '5', '-b', 'n', '-s', 'y', '-z', 'y', '-f', 'full_mammo', '-o', '/content/drive/My Drive/Materia_integradora/Datasets/CBIS-DDMS/MALIGNANT/full_mammo/Mass-Training_P_00406_RIGHT_MLO/1.3.6.1.4.1.9590.100.1.2.103494873713070714519724174710474902216/', '/content/Dataset/MALIGNANT/full_mammo/Mass-Training_P_00406_RIGHT_MLO/1.3.6.1.4.1.9590.100.1.2.103494873713070714519724174710474902216/full_mammo.dcm'], returncode=1)\n",
            "Problema con MALIGNANT/full_mammo/Mass-Training_P_00637_RIGHT_CC/1.3.6.1.4.1.9590.100.1.2.428352419311893519614700937242425762758/full_mammo.dcm CompletedProcess(args=['dcm2niix', '5', '-b', 'n', '-s', 'y', '-z', 'y', '-f', 'full_mammo', '-o', '/content/drive/My Drive/Materia_integradora/Datasets/CBIS-DDMS/MALIGNANT/full_mammo/Mass-Training_P_00637_RIGHT_CC/1.3.6.1.4.1.9590.100.1.2.428352419311893519614700937242425762758/', '/content/Dataset/MALIGNANT/full_mammo/Mass-Training_P_00637_RIGHT_CC/1.3.6.1.4.1.9590.100.1.2.428352419311893519614700937242425762758/full_mammo.dcm'], returncode=1)\n",
            "Problema con MALIGNANT/full_mammo/Mass-Training_P_00720_RIGHT_MLO/1.3.6.1.4.1.9590.100.1.2.134087433211395341511464022121296139359/full_mammo.dcm CompletedProcess(args=['dcm2niix', '5', '-b', 'n', '-s', 'y', '-z', 'y', '-f', 'full_mammo', '-o', '/content/drive/My Drive/Materia_integradora/Datasets/CBIS-DDMS/MALIGNANT/full_mammo/Mass-Training_P_00720_RIGHT_MLO/1.3.6.1.4.1.9590.100.1.2.134087433211395341511464022121296139359/', '/content/Dataset/MALIGNANT/full_mammo/Mass-Training_P_00720_RIGHT_MLO/1.3.6.1.4.1.9590.100.1.2.134087433211395341511464022121296139359/full_mammo.dcm'], returncode=1)\n",
            "Problema con BENIGN/full_mammo/Mass-Training_P_01299_LEFT_MLO/1.3.6.1.4.1.9590.100.1.2.199040568111077523402855758172229500384/full_mammo.dcm CompletedProcess(args=['dcm2niix', '5', '-b', 'n', '-s', 'y', '-z', 'y', '-f', 'full_mammo', '-o', '/content/drive/My Drive/Materia_integradora/Datasets/CBIS-DDMS/BENIGN/full_mammo/Mass-Training_P_01299_LEFT_MLO/1.3.6.1.4.1.9590.100.1.2.199040568111077523402855758172229500384/', '/content/Dataset/BENIGN/full_mammo/Mass-Training_P_01299_LEFT_MLO/1.3.6.1.4.1.9590.100.1.2.199040568111077523402855758172229500384/full_mammo.dcm'], returncode=1)\n",
            "Problema con MALIGNANT/full_mammo/Mass-Training_P_01371_RIGHT_MLO/1.3.6.1.4.1.9590.100.1.2.360936240513322154336641238113720846378/full_mammo.dcm CompletedProcess(args=['dcm2niix', '5', '-b', 'n', '-s', 'y', '-z', 'y', '-f', 'full_mammo', '-o', '/content/drive/My Drive/Materia_integradora/Datasets/CBIS-DDMS/MALIGNANT/full_mammo/Mass-Training_P_01371_RIGHT_MLO/1.3.6.1.4.1.9590.100.1.2.360936240513322154336641238113720846378/', '/content/Dataset/MALIGNANT/full_mammo/Mass-Training_P_01371_RIGHT_MLO/1.3.6.1.4.1.9590.100.1.2.360936240513322154336641238113720846378/full_mammo.dcm'], returncode=1)\n",
            "Problema con BENIGN/full_mammo/Mass-Training_P_01532_LEFT_CC/1.3.6.1.4.1.9590.100.1.2.166407449713489341006907780000949344586/full_mammo.dcm CompletedProcess(args=['dcm2niix', '5', '-b', 'n', '-s', 'y', '-z', 'y', '-f', 'full_mammo', '-o', '/content/drive/My Drive/Materia_integradora/Datasets/CBIS-DDMS/BENIGN/full_mammo/Mass-Training_P_01532_LEFT_CC/1.3.6.1.4.1.9590.100.1.2.166407449713489341006907780000949344586/', '/content/Dataset/BENIGN/full_mammo/Mass-Training_P_01532_LEFT_CC/1.3.6.1.4.1.9590.100.1.2.166407449713489341006907780000949344586/full_mammo.dcm'], returncode=1)\n",
            "Problema con BENIGN/full_mammo/Mass-Training_P_01560_RIGHT_MLO/1.3.6.1.4.1.9590.100.1.2.423418338111627617941958352860375625032/full_mammo.dcm CompletedProcess(args=['dcm2niix', '5', '-b', 'n', '-s', 'y', '-z', 'y', '-f', 'full_mammo', '-o', '/content/drive/My Drive/Materia_integradora/Datasets/CBIS-DDMS/BENIGN/full_mammo/Mass-Training_P_01560_RIGHT_MLO/1.3.6.1.4.1.9590.100.1.2.423418338111627617941958352860375625032/', '/content/Dataset/BENIGN/full_mammo/Mass-Training_P_01560_RIGHT_MLO/1.3.6.1.4.1.9590.100.1.2.423418338111627617941958352860375625032/full_mammo.dcm'], returncode=1)\n",
            "Problema con BENIGN/full_mammo/Mass-Training_P_01611_RIGHT_MLO/1.3.6.1.4.1.9590.100.1.2.28994390011193705314585586210966915731/full_mammo.dcm CompletedProcess(args=['dcm2niix', '5', '-b', 'n', '-s', 'y', '-z', 'y', '-f', 'full_mammo', '-o', '/content/drive/My Drive/Materia_integradora/Datasets/CBIS-DDMS/BENIGN/full_mammo/Mass-Training_P_01611_RIGHT_MLO/1.3.6.1.4.1.9590.100.1.2.28994390011193705314585586210966915731/', '/content/Dataset/BENIGN/full_mammo/Mass-Training_P_01611_RIGHT_MLO/1.3.6.1.4.1.9590.100.1.2.28994390011193705314585586210966915731/full_mammo.dcm'], returncode=1)\n",
            "Problema con MALIGNANT/ground_truth/Mass-Training_P_00637_RIGHT_CC/1.3.6.1.4.1.9590.100.1.2.5443013411725375126198864850093120508/roi_full_mammo.dcm CompletedProcess(args=['dcm2niix', '5', '-b', 'n', '-s', 'y', '-z', 'y', '-f', 'roi_full_mammo', '-o', '/content/drive/My Drive/Materia_integradora/Datasets/CBIS-DDMS/MALIGNANT/ground_truth/Mass-Training_P_00637_RIGHT_CC/1.3.6.1.4.1.9590.100.1.2.5443013411725375126198864850093120508/', '/content/Dataset/MALIGNANT/ground_truth/Mass-Training_P_00637_RIGHT_CC/1.3.6.1.4.1.9590.100.1.2.5443013411725375126198864850093120508/roi_full_mammo.dcm'], returncode=1)\n"
          ],
          "name": "stdout"
        }
      ]
    },
    {
      "cell_type": "code",
      "metadata": {
        "id": "8a-HQdxxJl2F",
        "colab_type": "code",
        "colab": {
          "base_uri": "https://localhost:8080/",
          "height": 34
        },
        "outputId": "b5a5c53e-02d2-4f21-d86d-17b591704f51"
      },
      "source": [
        "# df_masa_train_nii=pd.DataFrame(dic_benigno_calc)\n",
        "# df_masa_train_nii.shape"
      ],
      "execution_count": 73,
      "outputs": [
        {
          "output_type": "execute_result",
          "data": {
            "text/plain": [
              "(1149, 9)"
            ]
          },
          "metadata": {
            "tags": []
          },
          "execution_count": 73
        }
      ]
    },
    {
      "cell_type": "code",
      "metadata": {
        "id": "2ZLvifqGP25z",
        "colab_type": "code",
        "colab": {
          "base_uri": "https://localhost:8080/",
          "height": 34
        },
        "outputId": "297f81ed-081b-4e30-b59b-de13569280f9"
      },
      "source": [
        "# df_masa_train_nii.drop(df_masa_train_nii[df_masa_train_nii.patient_name.isin([\"Mass-Training_P_00034_RIGHT_MLO\",\n",
        "#                                                                               \"Mass-Training_P_00370_RIGHT_MLO\",\n",
        "#                                                                               \"Mass-Training_P_00406_RIGHT_MLO\",\n",
        "#                                                                               \"Mass-Training_P_00637_RIGHT_CC\",\n",
        "#                                                                               \"Mass-Training_P_00720_RIGHT_MLO\",\n",
        "#                                                                               \"Mass-Training_P_01299_LEFT_MLO\",\n",
        "#                                                                               \"Mass-Training_P_01371_RIGHT_MLO\",\n",
        "#                                                                               \"Mass-Training_P_01532_LEFT_CC\",\n",
        "#                                                                               \"Mass-Training_P_01560_RIGHT_MLO\",\n",
        "#                                                                               \"Mass-Training_P_01611_RIGHT_MLO\",\n",
        "#                                                                               \"Mass-Training_P_00637_RIGHT_CC\"])].index,axis=0,inplace=True)\n",
        "# df_masa_train_nii.reset_index(inplace=True,drop=True)\n",
        "# print(df_masa_train_nii.shape)"
      ],
      "execution_count": 76,
      "outputs": [
        {
          "output_type": "stream",
          "text": [
            "(1139, 9)\n"
          ],
          "name": "stdout"
        }
      ]
    },
    {
      "cell_type": "code",
      "metadata": {
        "id": "GIgAPMKBSRHm",
        "colab_type": "code",
        "colab": {}
      },
      "source": [
        "# for i,j in zip(df_masa_train_nii.image_path,df_masa_train_nii.roi_path):\n",
        "#   if not os.path.exists(i):\n",
        "#     print(i)\n",
        "#   if not os.path.exists(j):\n",
        "#     print(j)"
      ],
      "execution_count": 77,
      "outputs": []
    },
    {
      "cell_type": "code",
      "metadata": {
        "id": "0KakSgJ9KKgE",
        "colab_type": "code",
        "colab": {}
      },
      "source": [
        "# df_masa_train_nii.to_csv(rutadrive+\"mass_case_description_train_set_nii.csv\",index=False)"
      ],
      "execution_count": 78,
      "outputs": []
    },
    {
      "cell_type": "code",
      "metadata": {
        "id": "YguQlGOMKl7_",
        "colab_type": "code",
        "colab": {
          "base_uri": "https://localhost:8080/",
          "height": 119
        },
        "outputId": "26ce522e-20a8-439e-ea68-4c61f1343df9"
      },
      "source": [
        "# print(df_masa_train_nii[\"pathology\"].value_counts())\n",
        "# dff_2 = df_masa_train_nii[[\"pathology\",\"patient_id\"]]\n",
        "# d=df_masa_train_nii.groupby(['patient_id','pathology']).count().reset_index()\n",
        "# d[\"pathology\"].value_counts()"
      ],
      "execution_count": 79,
      "outputs": [
        {
          "output_type": "stream",
          "text": [
            "MALIGNANT    615\n",
            "BENIGN       524\n",
            "Name: pathology, dtype: int64\n"
          ],
          "name": "stdout"
        },
        {
          "output_type": "execute_result",
          "data": {
            "text/plain": [
              "MALIGNANT    335\n",
              "BENIGN       278\n",
              "Name: pathology, dtype: int64"
            ]
          },
          "metadata": {
            "tags": []
          },
          "execution_count": 79
        }
      ]
    },
    {
      "cell_type": "code",
      "metadata": {
        "id": "fKvneeTyO8LT",
        "colab_type": "code",
        "colab": {
          "base_uri": "https://localhost:8080/",
          "height": 71
        },
        "outputId": "37775678-579e-4cec-8b92-2d143220b65b"
      },
      "source": [
        "datos2=descargar_imagenes_imgs_2(tcia_client,df_masa_test2)\n",
        "dic_masa_test=do_convert_dicom_to_nii(datos2)"
      ],
      "execution_count": null,
      "outputs": [
        {
          "output_type": "stream",
          "text": [
            "....................................................................................................\n",
            "Problema con MALIGNANT/full_mammo/Calc-Training_P_00034_RIGHT_MLO/1.3.6.1.4.1.9590.100.1.2.287974861112966343326395908123786241211/full_mammo.dcm CompletedProcess(args=['dcm2niix', '5', '-b', 'n', '-s', 'y', '-z', 'y', '-f', 'full_mammo', '-o', '/content/drive/My Drive/Materia_integradora/Datasets/CBIS-DDMS/MALIGNANT/full_mammo/Calc-Training_P_00034_RIGHT_MLO/1.3.6.1.4.1.9590.100.1.2.287974861112966343326395908123786241211/', '/content/Dataset/MALIGNANT/full_mammo/Calc-Training_P_00034_RIGHT_MLO/1.3.6.1.4.1.9590.100.1.2.287974861112966343326395908123786241211/full_mammo.dcm'], returncode=1)\n"
          ],
          "name": "stdout"
        }
      ]
    },
    {
      "cell_type": "markdown",
      "metadata": {
        "id": "nCwhDOSJJwHc",
        "colab_type": "text"
      },
      "source": [
        "Creando diccionarios para todo el grupo de anormalidad calcificacion"
      ]
    },
    {
      "cell_type": "code",
      "metadata": {
        "id": "9hxVhl6RXRuS",
        "colab_type": "code",
        "colab": {
          "base_uri": "https://localhost:8080/",
          "height": 173
        },
        "outputId": "f06af88c-9853-4bf7-d454-393f605a0e75"
      },
      "source": [
        "# datos3=descargar_imagenes_imgs_2(tcia_client,df_calc_train2)\n",
        "# dic_calc_train=do_convert_dicom_to_nii(datos3)"
      ],
      "execution_count": 85,
      "outputs": [
        {
          "output_type": "stream",
          "text": [
            "................................................................................................................................................................................................................................................................................................................................................................................................................................................................................................................................................................................................................................................................................................................................................................................................................................................................................................................................................................................................................................................................................................................\n",
            "Problema con MALIGNANT/full_mammo/Calc-Training_P_00034_RIGHT_MLO/1.3.6.1.4.1.9590.100.1.2.287974861112966343326395908123786241211/full_mammo.dcm CompletedProcess(args=['dcm2niix', '5', '-b', 'n', '-s', 'y', '-z', 'y', '-f', 'full_mammo', '-o', '/content/drive/My Drive/Materia_integradora/Datasets/CBIS-DDMS/MALIGNANT/full_mammo/Calc-Training_P_00034_RIGHT_MLO/1.3.6.1.4.1.9590.100.1.2.287974861112966343326395908123786241211/', '/content/Dataset/MALIGNANT/full_mammo/Calc-Training_P_00034_RIGHT_MLO/1.3.6.1.4.1.9590.100.1.2.287974861112966343326395908123786241211/full_mammo.dcm'], returncode=1)\n",
            "Problema con MALIGNANT/full_mammo/Calc-Training_P_00574_RIGHT_MLO/1.3.6.1.4.1.9590.100.1.2.147648256713903255511780361291074950528/full_mammo.dcm CompletedProcess(args=['dcm2niix', '5', '-b', 'n', '-s', 'y', '-z', 'y', '-f', 'full_mammo', '-o', '/content/drive/My Drive/Materia_integradora/Datasets/CBIS-DDMS/MALIGNANT/full_mammo/Calc-Training_P_00574_RIGHT_MLO/1.3.6.1.4.1.9590.100.1.2.147648256713903255511780361291074950528/', '/content/Dataset/MALIGNANT/full_mammo/Calc-Training_P_00574_RIGHT_MLO/1.3.6.1.4.1.9590.100.1.2.147648256713903255511780361291074950528/full_mammo.dcm'], returncode=1)\n",
            "Problema con BENIGN/full_mammo/Calc-Training_P_00866_RIGHT_MLO/1.3.6.1.4.1.9590.100.1.2.428282054012177447101766370934168019719/full_mammo.dcm CompletedProcess(args=['dcm2niix', '5', '-b', 'n', '-s', 'y', '-z', 'y', '-f', 'full_mammo', '-o', '/content/drive/My Drive/Materia_integradora/Datasets/CBIS-DDMS/BENIGN/full_mammo/Calc-Training_P_00866_RIGHT_MLO/1.3.6.1.4.1.9590.100.1.2.428282054012177447101766370934168019719/', '/content/Dataset/BENIGN/full_mammo/Calc-Training_P_00866_RIGHT_MLO/1.3.6.1.4.1.9590.100.1.2.428282054012177447101766370934168019719/full_mammo.dcm'], returncode=1)\n",
            "Problema con BENIGN/full_mammo/Calc-Training_P_01094_RIGHT_MLO/1.3.6.1.4.1.9590.100.1.2.344419358811985823629681727110281003457/full_mammo.dcm CompletedProcess(args=['dcm2niix', '5', '-b', 'n', '-s', 'y', '-z', 'y', '-f', 'full_mammo', '-o', '/content/drive/My Drive/Materia_integradora/Datasets/CBIS-DDMS/BENIGN/full_mammo/Calc-Training_P_01094_RIGHT_MLO/1.3.6.1.4.1.9590.100.1.2.344419358811985823629681727110281003457/', '/content/Dataset/BENIGN/full_mammo/Calc-Training_P_01094_RIGHT_MLO/1.3.6.1.4.1.9590.100.1.2.344419358811985823629681727110281003457/full_mammo.dcm'], returncode=1)\n",
            "Problema con BENIGN/full_mammo/Calc-Training_P_01571_RIGHT_MLO/1.3.6.1.4.1.9590.100.1.2.214320482510079928016415374101280413204/full_mammo.dcm CompletedProcess(args=['dcm2niix', '5', '-b', 'n', '-s', 'y', '-z', 'y', '-f', 'full_mammo', '-o', '/content/drive/My Drive/Materia_integradora/Datasets/CBIS-DDMS/BENIGN/full_mammo/Calc-Training_P_01571_RIGHT_MLO/1.3.6.1.4.1.9590.100.1.2.214320482510079928016415374101280413204/', '/content/Dataset/BENIGN/full_mammo/Calc-Training_P_01571_RIGHT_MLO/1.3.6.1.4.1.9590.100.1.2.214320482510079928016415374101280413204/full_mammo.dcm'], returncode=1)\n",
            "Problema con BENIGN/full_mammo/Calc-Training_P_01660_RIGHT_MLO/1.3.6.1.4.1.9590.100.1.2.237664490512464836612235624102598435160/full_mammo.dcm CompletedProcess(args=['dcm2niix', '5', '-b', 'n', '-s', 'y', '-z', 'y', '-f', 'full_mammo', '-o', '/content/drive/My Drive/Materia_integradora/Datasets/CBIS-DDMS/BENIGN/full_mammo/Calc-Training_P_01660_RIGHT_MLO/1.3.6.1.4.1.9590.100.1.2.237664490512464836612235624102598435160/', '/content/Dataset/BENIGN/full_mammo/Calc-Training_P_01660_RIGHT_MLO/1.3.6.1.4.1.9590.100.1.2.237664490512464836612235624102598435160/full_mammo.dcm'], returncode=1)\n",
            "Problema con MALIGNANT/full_mammo/Calc-Training_P_02437_LEFT_MLO/1.3.6.1.4.1.9590.100.1.2.61424233211889839111153563380264874717/full_mammo.dcm CompletedProcess(args=['dcm2niix', '5', '-b', 'n', '-s', 'y', '-z', 'y', '-f', 'full_mammo', '-o', '/content/drive/My Drive/Materia_integradora/Datasets/CBIS-DDMS/MALIGNANT/full_mammo/Calc-Training_P_02437_LEFT_MLO/1.3.6.1.4.1.9590.100.1.2.61424233211889839111153563380264874717/', '/content/Dataset/MALIGNANT/full_mammo/Calc-Training_P_02437_LEFT_MLO/1.3.6.1.4.1.9590.100.1.2.61424233211889839111153563380264874717/full_mammo.dcm'], returncode=1)\n"
          ],
          "name": "stdout"
        }
      ]
    },
    {
      "cell_type": "code",
      "metadata": {
        "id": "iB984L67iL_H",
        "colab_type": "code",
        "colab": {
          "base_uri": "https://localhost:8080/",
          "height": 34
        },
        "outputId": "54013fc1-300a-4777-fa37-d76ddd98a534"
      },
      "source": [
        "# df_calc_train_nii=pd.DataFrame(dic_calc_train)\n",
        "# df_calc_train_nii.shape"
      ],
      "execution_count": 86,
      "outputs": [
        {
          "output_type": "execute_result",
          "data": {
            "text/plain": [
              "(1071, 9)"
            ]
          },
          "metadata": {
            "tags": []
          },
          "execution_count": 86
        }
      ]
    },
    {
      "cell_type": "code",
      "metadata": {
        "id": "P5JRb-N6jI9o",
        "colab_type": "code",
        "colab": {
          "base_uri": "https://localhost:8080/",
          "height": 34
        },
        "outputId": "6dd3f1d4-8559-4060-b8d0-f8ad41130cd8"
      },
      "source": [
        "# df_calc_train_nii.drop(df_calc_train_nii[df_calc_train_nii.patient_name.isin([\"Calc-Training_P_00034_RIGHT_MLO\",\n",
        "#                                                                               \"Calc-Training_P_00574_RIGHT_MLO\",\n",
        "#                                                                               \"Calc-Training_P_00866_RIGHT_MLO\",\n",
        "#                                                                               \"Calc-Training_P_01094_RIGHT_MLO\",\n",
        "#                                                                               \"Calc-Training_P_01571_RIGHT_MLO\",\n",
        "#                                                                               \"Calc-Training_P_01660_RIGHT_MLO\",\n",
        "#                                                                               \"Calc-Training_P_02437_LEFT_MLO\"])].index,axis=0,inplace=True)\n",
        "# df_calc_train_nii.reset_index(inplace=True,drop=True)\n",
        "# print(df_calc_train_nii.shape)"
      ],
      "execution_count": 87,
      "outputs": [
        {
          "output_type": "stream",
          "text": [
            "(1064, 9)\n"
          ],
          "name": "stdout"
        }
      ]
    },
    {
      "cell_type": "code",
      "metadata": {
        "id": "pVS1cqmIqylw",
        "colab_type": "code",
        "colab": {}
      },
      "source": [
        "# for i,j in zip(df_calc_train_nii.image_path,df_calc_train_nii.roi_path):\n",
        "#   if not os.path.exists(i):\n",
        "#     print(i)\n",
        "#   if not os.path.exists(j):\n",
        "#     print(j)"
      ],
      "execution_count": 88,
      "outputs": []
    },
    {
      "cell_type": "code",
      "metadata": {
        "id": "BZeA_NpFq5My",
        "colab_type": "code",
        "colab": {}
      },
      "source": [
        "# df_calc_train_nii.to_csv(rutadrive+\"calc_case_description_train_set_nii.csv\",index=False)"
      ],
      "execution_count": 89,
      "outputs": []
    },
    {
      "cell_type": "code",
      "metadata": {
        "id": "CiMHsE2Kq_pN",
        "colab_type": "code",
        "colab": {
          "base_uri": "https://localhost:8080/",
          "height": 119
        },
        "outputId": "332e9d1d-6c90-41ae-be4f-0cffb5393a8a"
      },
      "source": [
        "print(df_calc_train_nii[\"pathology\"].value_counts())\n",
        "dff_2 = df_calc_train_nii[[\"pathology\",\"patient_id\"]]\n",
        "d=df_calc_train_nii.groupby(['patient_id','pathology']).count().reset_index()\n",
        "d[\"pathology\"].value_counts()"
      ],
      "execution_count": 90,
      "outputs": [
        {
          "output_type": "stream",
          "text": [
            "MALIGNANT    540\n",
            "BENIGN       524\n",
            "Name: pathology, dtype: int64\n"
          ],
          "name": "stdout"
        },
        {
          "output_type": "execute_result",
          "data": {
            "text/plain": [
              "MALIGNANT    276\n",
              "BENIGN       258\n",
              "Name: pathology, dtype: int64"
            ]
          },
          "metadata": {
            "tags": []
          },
          "execution_count": 90
        }
      ]
    },
    {
      "cell_type": "code",
      "metadata": {
        "id": "OLce5jJXkIql",
        "colab_type": "code",
        "colab": {
          "base_uri": "https://localhost:8080/",
          "height": 71
        },
        "outputId": "c93525f8-8699-4aca-8951-3f3afebd6cb4"
      },
      "source": [
        "datos4=descargar_imagenes_imgs_2(tcia_client,df_calc_test2)\n",
        "dic_calc_test=do_convert_dicom_to_nii(datos4)"
      ],
      "execution_count": null,
      "outputs": [
        {
          "output_type": "stream",
          "text": [
            "....................................................................................................\n",
            "Problema con MALIGNANT/full_mammo/Mass-Training_P_00034_RIGHT_MLO/1.3.6.1.4.1.9590.100.1.2.369255064712196304011941917441138397637/full_mammo.dcm CompletedProcess(args=['dcm2niix', '5', '-b', 'n', '-s', 'y', '-z', 'y', '-f', 'full_mammo', '-o', '/content/drive/My Drive/Materia_integradora/Datasets/CBIS-DDMS/MALIGNANT/full_mammo/Mass-Training_P_00034_RIGHT_MLO/1.3.6.1.4.1.9590.100.1.2.369255064712196304011941917441138397637/', '/content/Dataset/MALIGNANT/full_mammo/Mass-Training_P_00034_RIGHT_MLO/1.3.6.1.4.1.9590.100.1.2.369255064712196304011941917441138397637/full_mammo.dcm'], returncode=1)\n"
          ],
          "name": "stdout"
        }
      ]
    },
    {
      "cell_type": "markdown",
      "metadata": {
        "id": "rLx5UeBerEmH",
        "colab_type": "text"
      },
      "source": [
        "## csv Creados de Benigno y Maligno"
      ]
    },
    {
      "cell_type": "code",
      "metadata": {
        "id": "InoHBwnxWzaw",
        "colab_type": "code",
        "colab": {}
      },
      "source": [
        "#CAMBIAR NOMBRES SEGUN LOS DF QUE SE USEN\n",
        "nombresdf=[\"malignant_calc_case_description_train_set_new_100.csv\",\n",
        "           \"malignant_mass_case_description_train_set_new_100.csv\",\n",
        "           \"benign_calc_case_description_train_set_new_100.csv\",\n",
        "           \"benign_mass_case_description_train_set_new_100.csv\",\n",
        "           \"mass_test_nii.csv\",\n",
        "           \"calc_test_nii.csv\"]"
      ],
      "execution_count": null,
      "outputs": []
    },
    {
      "cell_type": "code",
      "metadata": {
        "id": "6qCcTFRprF3w",
        "colab_type": "code",
        "colab": {}
      },
      "source": [
        "df_mlg_calc1=pd.DataFrame(dic_maligno_calc)\n",
        "df_mlg_mass1=pd.DataFrame(dic_maligno_mass)\n",
        "df_bng_calc1=pd.DataFrame(dic_benigno_calc)\n",
        "df_bng_mass1=pd.DataFrame(dic_benigno_mass)"
      ],
      "execution_count": null,
      "outputs": []
    },
    {
      "cell_type": "code",
      "metadata": {
        "id": "D-7MSMlnEj3X",
        "colab_type": "code",
        "colab": {
          "base_uri": "https://localhost:8080/",
          "height": 85
        },
        "outputId": "7644d71a-05fe-4fc2-ed81-16279383674a"
      },
      "source": [
        "print(df_mlg_calc1.shape)\n",
        "print(df_mlg_mass1.shape)\n",
        "print(df_bng_calc1.shape)\n",
        "print(df_bng_mass1.shape)"
      ],
      "execution_count": null,
      "outputs": [
        {
          "output_type": "stream",
          "text": [
            "(99, 4)\n",
            "(98, 4)\n",
            "(100, 4)\n",
            "(96, 4)\n"
          ],
          "name": "stdout"
        }
      ]
    },
    {
      "cell_type": "code",
      "metadata": {
        "id": "bYsD7QpMhY3_",
        "colab_type": "code",
        "colab": {
          "base_uri": "https://localhost:8080/",
          "height": 34
        },
        "outputId": "b6175638-a914-4826-d8fa-4323986264af"
      },
      "source": [
        "# df_mlg_mass1.drop(df_mlg_mass1[df_mlg_mass1.patient_id.isin([\"Mass-Training_P_00034_RIGHT_MLO\"])].index,axis=0,inplace=True)#.reset_index(inplace=True)\n",
        "# df_mlg_mass1.reset_index(drop=True,inplace=True)\n",
        "# df_mlg_mass1.shape"
      ],
      "execution_count": null,
      "outputs": [
        {
          "output_type": "execute_result",
          "data": {
            "text/plain": [
              "(97, 4)"
            ]
          },
          "metadata": {
            "tags": []
          },
          "execution_count": 86
        }
      ]
    },
    {
      "cell_type": "code",
      "metadata": {
        "id": "kWq_MOwoB6VK",
        "colab_type": "code",
        "colab": {
          "base_uri": "https://localhost:8080/",
          "height": 34
        },
        "outputId": "9ca45c22-4e96-4781-f628-81118f89f4b9"
      },
      "source": [
        "# df_mlg_calc1.drop(df_mlg_calc1[df_mlg_calc1.patient_id.isin([\"Calc-Training_P_00034_RIGHT_MLO\"])].index,axis=0,inplace=True)#.reset_index(inplace=True)\n",
        "# df_mlg_calc1.reset_index(drop=True,inplace=True)\n",
        "# df_mlg_calc1.shape"
      ],
      "execution_count": null,
      "outputs": [
        {
          "output_type": "execute_result",
          "data": {
            "text/plain": [
              "(98, 4)"
            ]
          },
          "metadata": {
            "tags": []
          },
          "execution_count": 85
        }
      ]
    },
    {
      "cell_type": "code",
      "metadata": {
        "id": "k5SkdAnxCqD3",
        "colab_type": "code",
        "colab": {
          "base_uri": "https://localhost:8080/",
          "height": 34
        },
        "outputId": "c5301440-3b5e-4056-f18e-c19bbaffa56c"
      },
      "source": [
        "# df_bng_calc1.drop(df_bng_calc1[df_bng_calc1.patient_id.isin([\"Calc-Training_P_01094_RIGHT_MLO\",\"Calc-Training_P_01571_RIGHT_MLO\",\"Calc-Training_P_01660_RIGHT_MLO\"])].index,axis=0,inplace=True)#.reset_index(inplace=True)\n",
        "# df_bng_calc1.reset_index(drop=True,inplace=True)\n",
        "# df_bng_calc1.shape"
      ],
      "execution_count": null,
      "outputs": [
        {
          "output_type": "execute_result",
          "data": {
            "text/plain": [
              "(261, 5)"
            ]
          },
          "metadata": {
            "tags": []
          },
          "execution_count": 61
        }
      ]
    },
    {
      "cell_type": "code",
      "metadata": {
        "id": "-0VnadIyCMsM",
        "colab_type": "code",
        "colab": {
          "base_uri": "https://localhost:8080/",
          "height": 34
        },
        "outputId": "3a562bea-3b2f-4f69-e383-a31999c7a905"
      },
      "source": [
        "# df_bng_mass1.drop(df_bng_mass1[df_bng_mass1.patient_id.isin([\"Mass-Training_P_01299_LEFT_MLO\",\"Mass-Training_P_01486_RIGHT_MLO\",\"Mass-Training_P_01532_LEFT_CC\",\"Mass-Training_P_01560_RIGHT_MLO\",\"Mass-Training_P_01611_RIGHT_MLO\"])].index,axis=0,inplace=True)#.reset_index(inplace=True)\n",
        "# df_bng_mass1.reset_index(drop=True,inplace=True)\n",
        "# df_bng_mass1.shape"
      ],
      "execution_count": null,
      "outputs": [
        {
          "output_type": "execute_result",
          "data": {
            "text/plain": [
              "(284, 5)"
            ]
          },
          "metadata": {
            "tags": []
          },
          "execution_count": 40
        }
      ]
    },
    {
      "cell_type": "code",
      "metadata": {
        "id": "88gzN5YHFEbS",
        "colab_type": "code",
        "colab": {
          "base_uri": "https://localhost:8080/",
          "height": 34
        },
        "outputId": "43b8ea5a-a081-4ffe-c492-021aea7ca2ac"
      },
      "source": [
        "# df_mlg_calc=pd.concat([df_mlg_calc,df_mlg_calc1],ignore_index=True)\n",
        "# df_mlg_calc.shape"
      ],
      "execution_count": null,
      "outputs": [
        {
          "output_type": "execute_result",
          "data": {
            "text/plain": [
              "(542, 5)"
            ]
          },
          "metadata": {
            "tags": []
          },
          "execution_count": 41
        }
      ]
    },
    {
      "cell_type": "code",
      "metadata": {
        "id": "OqfOKo-6Fjni",
        "colab_type": "code",
        "colab": {
          "base_uri": "https://localhost:8080/",
          "height": 34
        },
        "outputId": "63b16b48-1f8b-4262-94f9-c1fad9ff63d0"
      },
      "source": [
        "# df_mlg_mass=pd.concat([df_mlg_mass,df_mlg_mass1],ignore_index=True)\n",
        "# df_mlg_mass.shape"
      ],
      "execution_count": null,
      "outputs": [
        {
          "output_type": "execute_result",
          "data": {
            "text/plain": [
              "(630, 5)"
            ]
          },
          "metadata": {
            "tags": []
          },
          "execution_count": 43
        }
      ]
    },
    {
      "cell_type": "code",
      "metadata": {
        "id": "wDFFH0WMGgwc",
        "colab_type": "code",
        "colab": {
          "base_uri": "https://localhost:8080/",
          "height": 34
        },
        "outputId": "156da4d1-3a1d-478f-9c63-6cca2a7ea8b1"
      },
      "source": [
        "# df_bng_calc=pd.concat([df_bng_calc,df_bng_calc1],ignore_index=True)\n",
        "# df_bng_calc.shape"
      ],
      "execution_count": null,
      "outputs": [
        {
          "output_type": "execute_result",
          "data": {
            "text/plain": [
              "(524, 5)"
            ]
          },
          "metadata": {
            "tags": []
          },
          "execution_count": 45
        }
      ]
    },
    {
      "cell_type": "code",
      "metadata": {
        "id": "uSWJLhEFGpnK",
        "colab_type": "code",
        "colab": {
          "base_uri": "https://localhost:8080/",
          "height": 34
        },
        "outputId": "c763d390-53a1-4f0b-fad0-8d2ee0d4e1a0"
      },
      "source": [
        "# df_bng_mass=pd.concat([df_bng_mass,df_bng_mass1],ignore_index=True)\n",
        "# df_bng_mass.shape"
      ],
      "execution_count": null,
      "outputs": [
        {
          "output_type": "execute_result",
          "data": {
            "text/plain": [
              "(572, 5)"
            ]
          },
          "metadata": {
            "tags": []
          },
          "execution_count": 47
        }
      ]
    },
    {
      "cell_type": "code",
      "metadata": {
        "id": "dvzuijltFdGc",
        "colab_type": "code",
        "colab": {}
      },
      "source": [
        "# df_mlg_calc1.to_csv(rutadrive+nombresdf[0])\n",
        "# df_mlg_mass1.to_csv(rutadrive+nombresdf[1])\n",
        "# df_bng_calc1.to_csv(rutadrive+nombresdf[2])\n",
        "# df_bng_mass1.to_csv(rutadrive+nombresdf[3])\n",
        "# df_mass_test.to_csv(rutadrive+nombresdf[4])\n",
        "# df_calci_test.to_csv(rutadrive+nombresdf[5])"
      ],
      "execution_count": null,
      "outputs": []
    },
    {
      "cell_type": "code",
      "metadata": {
        "id": "3a1RgFV_aXtt",
        "colab_type": "code",
        "colab": {}
      },
      "source": [
        "# df_mlg_calc=pd.read_csv(rutadrive+nombresdf[0],index_col=0)\n",
        "# df_mlg_mass=pd.read_csv(rutadrive+nombresdf[1],index_col=0)\n",
        "# df_bng_calc=pd.read_csv(rutadrive+nombresdf[2],index_col=0)\n",
        "# df_bng_mass=pd.read_csv(rutadrive+nombresdf[3],index_col=0)\n",
        "# df_mass_test=pd.read_csv(rutadrive+nombresdf[4],index_col=0)\n",
        "# df_calci_test=pd.read_csv(rutadrive+nombresdf[5],index_col=0)"
      ],
      "execution_count": null,
      "outputs": []
    },
    {
      "cell_type": "code",
      "metadata": {
        "id": "WXbMpVArZqvj",
        "colab_type": "code",
        "colab": {
          "base_uri": "https://localhost:8080/",
          "height": 119
        },
        "outputId": "132a1eff-8c48-4a3c-d9b5-2766ecd445cf"
      },
      "source": [
        "print(df_mlg_calc.shape)\n",
        "print(df_mlg_mass.shape)\n",
        "print(df_bng_calc.shape)\n",
        "print(df_bng_mass.shape)\n",
        "print(df_mass_test.shape)\n",
        "print(df_calci_test.shape)"
      ],
      "execution_count": null,
      "outputs": [
        {
          "output_type": "stream",
          "text": [
            "(541, 9)\n",
            "(630, 9)\n",
            "(524, 9)\n",
            "(572, 9)\n",
            "(338, 6)\n",
            "(254, 6)\n"
          ],
          "name": "stdout"
        }
      ]
    },
    {
      "cell_type": "markdown",
      "metadata": {
        "id": "portMKjtD8dv",
        "colab_type": "text"
      },
      "source": [
        "## Obteniendo imagenes normales"
      ]
    },
    {
      "cell_type": "code",
      "metadata": {
        "colab_type": "code",
        "id": "6utBDWpYhrPh",
        "colab": {}
      },
      "source": [
        "from ftplib import FTP\n",
        "import os\n",
        "import urllib.request as req\n",
        "import shutil\n",
        "from contextlib import closing\n",
        " \n",
        "def dowload_normales():\n",
        "  n=0\n",
        "  host=\"figment.csee.usf.edu\"\n",
        "  folder = ruta + 'NORMAL/'\n",
        "  endrive = rutadrive+'NORMAL/'\n",
        "  if not os.path.exists(folder):\n",
        "    os.makedirs(folder)\n",
        "  lista=[]\n",
        "  with FTP(host,timeout=30) as ftp:\n",
        "      if not os.path.exists(folder):\n",
        "          os.makedirs(folder)\n",
        "      if not os.path.exists(endrive):\n",
        "          os.makedirs(endrive)\n",
        "      # Login to FTP Server\n",
        "      ftp.login()\n",
        "      normals=\"pub/DDSM/cases/normals\"\n",
        "      # Get the list of files in the server\n",
        "      lista_normales = ftp.nlst(normals)\n",
        "      for dir in lista_normales:\n",
        "        # Change the working directory\n",
        "        ftp.cwd(\"/\"+dir+\"/\")\n",
        "        lista_casos=ftp.nlst()\n",
        "        for caso in lista_casos: \n",
        "          if n<150+238:\n",
        "            n+=1\n",
        "            continue\n",
        "          print(dir,caso)\n",
        " \n",
        "          lista.append(\"NORMAL/\"+caso)\n",
        "          if os.path.exists(endrive+caso+\"/\"):\n",
        "            if len(os.listdir(endrive+caso+\"/\"))>=5:\n",
        "              continue\n",
        "          else: \n",
        "            os.makedirs(endrive+caso+\"/\")\n",
        " \n",
        "          if os.path.exists(folder+caso+\"/\"):\n",
        "            if len(os.listdir(folder+caso+\"/\"))>=5:\n",
        "              continue\n",
        "          else: \n",
        "            os.makedirs(folder+caso+\"/\")\n",
        "          \n",
        "          ftp.cwd(\"/\"+dir+\"/\"+caso+\"/\")   \n",
        "          for filename in ftp.nlst():\n",
        "            if \".16_PGM\" in filename:\n",
        "              continue\n",
        "            # Create the URL from where file has to be downloaded\n",
        "            file = 'ftp://{}/{}/{}/{}'.format(host,dir,caso,filename)\n",
        "            # Create the file name\n",
        "            download_file_name = folder + caso+\"/\"+filename\n",
        "            with closing(req.urlopen(file)) as r:\n",
        "                with open(download_file_name, 'wb') as f:\n",
        "                    shutil.copyfileobj(r, f)\n",
        "  return lista"
      ],
      "execution_count": null,
      "outputs": []
    },
    {
      "cell_type": "code",
      "metadata": {
        "id": "DDpDYXxtNtU6",
        "colab_type": "code",
        "colab": {}
      },
      "source": [
        "# prueba=dowload_normales()"
      ],
      "execution_count": null,
      "outputs": []
    },
    {
      "cell_type": "code",
      "metadata": {
        "id": "or87jG4P2j1h",
        "colab_type": "code",
        "colab": {}
      },
      "source": [
        "def split_filename(filepath):\n",
        "  path = os.path.dirname(filepath)\n",
        "  filename = os.path.basename(filepath)\n",
        "  base, ext = os.path.splitext(filename)\n",
        "  return path, base, ext"
      ],
      "execution_count": null,
      "outputs": []
    },
    {
      "cell_type": "code",
      "metadata": {
        "id": "fYrQYFSgYeHX",
        "colab_type": "code",
        "colab": {}
      },
      "source": [
        "#IMAGENES TIFF A DICOM\n",
        "def convert_tiff_dicom(ics_dict,tiff,force=False):\n",
        "  \"\"\"\n",
        "  :param ics_dict: dict with infomation of the image\n",
        "  :param tif: path to tif image\n",
        "  :param force: if True, force the creation of the file\n",
        "  :return: converted file path\n",
        "  \"\"\"\n",
        "  path,base,ext=split_filename(tiff)\n",
        "  dicom_filename=os.path.join(base+\".dcm\")\n",
        " \n",
        "  if os.path.exists(path+\"/\"+dicom_filename) and not force:\n",
        "    return (base,dicom_filename)\n",
        "  _,gg=base.split(\".\")\n",
        "  # Create the metadata for the dataset\n",
        "  file_meta = Dataset()\n",
        "  #file_meta.TransferSyntaxUID = ImplicitVRLittleEndian\n",
        " \n",
        "  # Create some temporary filenames\n",
        "  suffix = '.dcm'\n",
        "  filename_little_endian = tempfile.NamedTemporaryFile(suffix=suffix).name\n",
        " \n",
        "  # CONFIGURACION DE IMAGEN DICOM BASE CBIS DDSM\n",
        "  file_meta.MediaStorageSOPClassUID = 'Secondary Capture Image Storage'\n",
        "  file_meta.MediaStorageSOPInstanceUID = '1.3.6.1.4.1.9590.100.1.2.289923739312470966435676008311959891294'\n",
        "  file_meta.ImplementationClassUID = '1.2.40.0.13.1.1.1'\n",
        "  \n",
        "  # Create the dataset\n",
        "  ds = FileDataset(filename_little_endian, {}, file_meta=file_meta, preamble=b'\\x00'*128) # pre-existing dicom file\n",
        "  ds.is_little_endian = True\n",
        "  ds.is_implicit_VR = True\n",
        " \n",
        "  ds.PatientName = ics_dict[\"patient_id\"]\n",
        "  ds.PatientID = ics_dict[\"patient_id\"]\n",
        "  im_frame = Image.open(tiff)\n",
        "  np_frame = np.array(im_frame.getdata(),dtype=np.uint16)\n",
        "  ds.Rows = ics_dict[gg][\"height\"]\n",
        "  ds.Columns = ics_dict[gg][\"width\"]\n",
        "  ds.PhotometricInterpretation = \"MONOCHROME2\"\n",
        "  ds.BitsAllocated = ics_dict[gg][\"bpp\"]\n",
        "  ds.BitsStored = ics_dict[gg][\"bpp\"]\n",
        "  ds.SmallestImagePixelValue = 0\n",
        "  ds.LargestImagePixelValue  = 65535\n",
        "  ds.HighBit = 15\n",
        "  ds.PixelRepresentation = 0    #fijo, todos ejemplos usan 0\n",
        "  ds.PixelData = np_frame.tobytes()\n",
        "  ds.save_as(path+\"/\"+dicom_filename)\n",
        "  return (base,dicom_filename)"
      ],
      "execution_count": null,
      "outputs": []
    },
    {
      "cell_type": "code",
      "metadata": {
        "id": "0MWvTPTg_Qy1",
        "colab_type": "code",
        "colab": {}
      },
      "source": [
        "def convert_LJPEG_dcm(dirs):\n",
        "  datos={\"patient_id\":[],\"image_path\":[]}\n",
        "  for dir in dirs:\n",
        "    try:\n",
        "      ics = glob.glob(ruta+dir + '/*.ics')[0]\n",
        "    except:\n",
        "      continue\n",
        "    ics_dict=ddsm.get_ics_info(ics)\n",
        "   \n",
        "    for f in os.listdir(ruta+dir):\n",
        "      \n",
        "      if \".LJPEG\" not in f:\n",
        "        continue\n",
        "      \n",
        "      normal = ddsm.ddsm_abnormality(os.path.join(ruta,dir,f),ics_dict)\n",
        "      tif_file=normal.save_image(od_correct=True)\n",
        "      patient_id,dcm_file=convert_tiff_dicom(ics_dict,tif_file)      \n",
        "      datos[\"patient_id\"].append(patient_id)\n",
        "      datos[\"image_path\"].append(os.path.join(dir,dcm_file))\n",
        "      os.remove(os.path.join(ruta,dir,f))\n",
        "  return datos"
      ],
      "execution_count": null,
      "outputs": []
    },
    {
      "cell_type": "code",
      "metadata": {
        "id": "JxKd1V-lCwkb",
        "colab_type": "code",
        "colab": {}
      },
      "source": [
        "# dcms=convert_LJPEG_dcm(prueba)"
      ],
      "execution_count": null,
      "outputs": []
    },
    {
      "cell_type": "code",
      "metadata": {
        "id": "JG3TUS9fHPrd",
        "colab_type": "code",
        "colab": {}
      },
      "source": [
        "#normales=do_convert_dicom_to_nii(dcms)"
      ],
      "execution_count": null,
      "outputs": []
    },
    {
      "cell_type": "code",
      "metadata": {
        "id": "r2cz5Mb8yopI",
        "colab_type": "code",
        "colab": {}
      },
      "source": [
        "# df_mlg_calc[\"pathology\"]=\"MALIGNANT\"\n",
        "# df_mlg_calc['id']=df_mlg_calc['patient_id'].apply(lambda x: x.split(\"_\",1)[1][:7])\n",
        "# df_mlg_calc[['left or right breast',\"image view\"]]=df_mlg_calc['patient_id'].str.split(\"_\",1,True)[1].str[8:].str.split(\"_\",expand=True)\n",
        "\n",
        "# df_mlg_mass[\"pathology\"]=\"MALIGNANT\"\n",
        "# df_mlg_mass['id']=df_mlg_mass['patient_id'].apply(lambda x: x.split(\"_\",1)[1][:7])\n",
        "# df_mlg_mass[['left or right breast',\"image view\"]]=df_mlg_mass['patient_id'].str.split(\"_\",1,True)[1].str[8:].str.split(\"_\",expand=True)\n",
        "\n",
        "# df_bng_calc[\"pathology\"]=\"BENIGN\"\n",
        "# df_bng_calc['id']=df_bng_calc['patient_id'].apply(lambda x: x.split(\"_\",1)[1][:7])\n",
        "# df_bng_calc[['left or right breast',\"image view\"]]=df_bng_calc['patient_id'].str.split(\"_\",1,True)[1].str[8:].str.split(\"_\",expand=True)\n",
        "\n",
        "# df_bng_mass[\"pathology\"]=\"BENIGN\"\n",
        "# df_bng_mass['id']=df_bng_mass['patient_id'].apply(lambda x: x.split(\"_\",1)[1][:7])\n",
        "# df_bng_mass[['left or right breast',\"image view\"]]=df_bng_mass['patient_id'].str.split(\"_\",1,True)[1].str[8:].str.split(\"_\",expand=True)\n",
        "\n",
        "# df_calci_test['id']=df_calci_test['patient_id'].apply(lambda x: x.split(\"_\",1)[1][:7])\n",
        "# df_mass_test['id']=df_mass_test['patient_id'].apply(lambda x: x.split(\"_\",1)[1][:7])"
      ],
      "execution_count": null,
      "outputs": []
    },
    {
      "cell_type": "code",
      "metadata": {
        "id": "svkzqSu1uizd",
        "colab_type": "code",
        "colab": {
          "base_uri": "https://localhost:8080/",
          "height": 119
        },
        "outputId": "362f8878-484a-4238-ce0c-6f9299ee7fd0"
      },
      "source": [
        "df=pd.concat([df_mlg_calc,df_bng_calc],ignore_index=True)\n",
        "print(df[\"pathology\"].value_counts())\n",
        "dff_2 = df[[\"pathology\",\"id\"]].groupby(['id','pathology']).count().reset_index()\n",
        "dff_2[\"pathology\"].value_counts()"
      ],
      "execution_count": null,
      "outputs": [
        {
          "output_type": "stream",
          "text": [
            "MALIGNANT    541\n",
            "BENIGN       524\n",
            "Name: pathology, dtype: int64\n"
          ],
          "name": "stdout"
        },
        {
          "output_type": "execute_result",
          "data": {
            "text/plain": [
              "MALIGNANT    276\n",
              "BENIGN       258\n",
              "Name: pathology, dtype: int64"
            ]
          },
          "metadata": {
            "tags": []
          },
          "execution_count": 222
        }
      ]
    },
    {
      "cell_type": "code",
      "metadata": {
        "id": "1qRxR4UmgTfE",
        "colab_type": "code",
        "colab": {
          "base_uri": "https://localhost:8080/",
          "height": 119
        },
        "outputId": "44c173a0-5f96-443b-e7ea-bd484172183c"
      },
      "source": [
        "df=pd.concat([df_mlg_mass,df_bng_mass],ignore_index=True)\n",
        "print(df[\"pathology\"].value_counts())\n",
        "dff_2 = df[[\"pathology\",\"id\"]].groupby(['id','pathology']).count().reset_index()\n",
        "dff_2[\"pathology\"].value_counts()"
      ],
      "execution_count": null,
      "outputs": [
        {
          "output_type": "stream",
          "text": [
            "MALIGNANT    630\n",
            "BENIGN       572\n",
            "Name: pathology, dtype: int64\n"
          ],
          "name": "stdout"
        },
        {
          "output_type": "execute_result",
          "data": {
            "text/plain": [
              "MALIGNANT    344\n",
              "BENIGN       303\n",
              "Name: pathology, dtype: int64"
            ]
          },
          "metadata": {
            "tags": []
          },
          "execution_count": 223
        }
      ]
    },
    {
      "cell_type": "code",
      "metadata": {
        "id": "F0H5le_jhPJ1",
        "colab_type": "code",
        "colab": {
          "base_uri": "https://localhost:8080/",
          "height": 119
        },
        "outputId": "8a58c4a9-969e-44cf-cb3c-15cbe29e17ba"
      },
      "source": [
        "print(df_calci_test[\"pathology\"].value_counts())\n",
        "dff_2 = df_calci_test[[\"pathology\",\"id\"]].groupby(['id','pathology']).count().reset_index()\n",
        "dff_2[\"pathology\"].value_counts()"
      ],
      "execution_count": null,
      "outputs": [
        {
          "output_type": "stream",
          "text": [
            "MALIGNANT    128\n",
            "BENIGN       126\n",
            "Name: pathology, dtype: int64\n"
          ],
          "name": "stdout"
        },
        {
          "output_type": "execute_result",
          "data": {
            "text/plain": [
              "BENIGN       69\n",
              "MALIGNANT    67\n",
              "Name: pathology, dtype: int64"
            ]
          },
          "metadata": {
            "tags": []
          },
          "execution_count": 229
        }
      ]
    },
    {
      "cell_type": "code",
      "metadata": {
        "id": "KjRyEl8RhnMH",
        "colab_type": "code",
        "colab": {
          "base_uri": "https://localhost:8080/",
          "height": 119
        },
        "outputId": "15ee7d80-3387-44c9-a5ff-b3a205950162"
      },
      "source": [
        "print(df_mass_test[\"pathology\"].value_counts())\n",
        "dff_2 = df_mass_test[[\"pathology\",\"id\"]].groupby(['id','pathology']).count().reset_index()\n",
        "dff_2[\"pathology\"].value_counts()"
      ],
      "execution_count": null,
      "outputs": [
        {
          "output_type": "stream",
          "text": [
            "BENIGN       192\n",
            "MALIGNANT    146\n",
            "Name: pathology, dtype: int64\n"
          ],
          "name": "stdout"
        },
        {
          "output_type": "execute_result",
          "data": {
            "text/plain": [
              "BENIGN       100\n",
              "MALIGNANT     85\n",
              "Name: pathology, dtype: int64"
            ]
          },
          "metadata": {
            "tags": []
          },
          "execution_count": 230
        }
      ]
    },
    {
      "cell_type": "code",
      "metadata": {
        "id": "RLyDliT2iOra",
        "colab_type": "code",
        "colab": {}
      },
      "source": [
        ""
      ],
      "execution_count": null,
      "outputs": []
    }
  ]
}